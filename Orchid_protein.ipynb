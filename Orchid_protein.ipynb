{
 "cells": [
  {
   "cell_type": "markdown",
   "id": "983f55dd-4a12-411d-a682-0c4ee9136db5",
   "metadata": {},
   "source": [
    "# Download dataset"
   ]
  },
  {
   "cell_type": "markdown",
   "id": "f73adc83-9112-4a4e-a876-1e6b01b9720f",
   "metadata": {
    "jp-MarkdownHeadingCollapsed": true,
    "tags": []
   },
   "source": [
    "```python\n",
    "import re\n",
    "import requests\n",
    "from requests.adapters import HTTPAdapter, Retry\n",
    "\n",
    "# Regex to extract the next link from the Link header\n",
    "re_next_link = re.compile(r'<(.+)>; rel=\"next\"')\n",
    "\n",
    "# Set up a session with retry logic\n",
    "retries = Retry(total=5, backoff_factor=0.25, status_forcelist=[500, 502, 503, 504])\n",
    "session = requests.Session()\n",
    "session.mount(\"https://\", HTTPAdapter(max_retries=retries))\n",
    "\n",
    "# Function to get the next link from the response headers\n",
    "def get_next_link(headers):\n",
    "    if \"Link\" in headers:\n",
    "        match = re_next_link.match(headers[\"Link\"])\n",
    "        if match:\n",
    "            return match.group(1)\n",
    "\n",
    "# Generator function to fetch batches of data\n",
    "def get_batch(batch_url):\n",
    "    while batch_url:\n",
    "        response = session.get(batch_url)\n",
    "        response.raise_for_status()  # Raise an error for failed requests\n",
    "        yield response  # Yield the response for processing\n",
    "        batch_url = get_next_link(response.headers)  # Get the next link\n",
    "\n",
    "# Main function to download data\n",
    "def download_uniref50_clusters(output_file, base_url, total_records=10000):\n",
    "    progress = 0\n",
    "    with open(output_file, \"w\") as f:\n",
    "        for response in get_batch(base_url):\n",
    "            # Write the response content to the file\n",
    "            f.write(response.text)\n",
    "            \n",
    "            # Count records based on number of sequences\n",
    "            progress += response.text.count(\">\")  # Count FASTA headers\n",
    "            print(f\"Downloaded {progress} / {total_records} clusters\")\n",
    "\n",
    "            # Stop when we reach the desired total\n",
    "            if progress >= total_records:\n",
    "                break\n",
    "    print(f\"Download complete! {progress} clusters saved to {output_file}\")\n",
    "\n",
    "# Define base URL for UniProt REST API\n",
    "base_url = \"https://rest.uniprot.org/uniref/search?query=identity:0.5&format=fasta&size=500\"\n",
    "\n",
    "# Download UniRef50 clusters\n",
    "download_uniref50_clusters(\"uniref50_10000_clusters.fasta\", base_url, total_records=100000)\n",
    "```"
   ]
  },
  {
   "cell_type": "markdown",
   "id": "9ad2f34d-79d3-4450-90c8-96a329b0d49c",
   "metadata": {
    "tags": []
   },
   "source": [
    "# Load and Prepare Data"
   ]
  },
  {
   "cell_type": "code",
   "execution_count": 1,
   "id": "af6a0c8d-b544-4ad2-af8f-d7d50e53b3db",
   "metadata": {},
   "outputs": [],
   "source": [
    "def set_seed(seed=42):\n",
    "    import torch\n",
    "    import random\n",
    "    import numpy as np\n",
    "\n",
    "    random.seed(seed)\n",
    "    np.random.seed(seed)\n",
    "    torch.manual_seed(seed)\n",
    "    if torch.cuda.is_available():\n",
    "        torch.cuda.manual_seed(seed)\n",
    "        torch.cuda.manual_seed_all(seed)\n",
    "    torch.backends.cudnn.deterministic = True\n",
    "    torch.backends.cudnn.benchmark = False\n",
    "\n",
    "set_seed(42) "
   ]
  },
  {
   "cell_type": "code",
   "execution_count": 15,
   "id": "708a9928-86bc-477c-8004-d21d24309052",
   "metadata": {
    "tags": []
   },
   "outputs": [],
   "source": [
    "from Bio import SeqIO\n",
    "import random\n",
    "import torch\n",
    "from sklearn.model_selection import train_test_split\n",
    "\n",
    "# Load sequences from a FASTA file\n",
    "def read_fasta(file):\n",
    "    sequences = []\n",
    "    for record in SeqIO.parse(file, \"fasta\"):\n",
    "        sequences.append(str(record.seq))\n",
    "    return sequences\n",
    "\n",
    "# Apply masking to sequences for MLM\n",
    "def mask_sequence(sequence, vocab, mask_token=\"[MASK]\"):\n",
    "    tokens = list(sequence)  # Convert sequence to tokens\n",
    "    input_tokens = tokens[:]\n",
    "    labels = [-100] * len(tokens)  # Default to -100 for non-masked positions\n",
    "\n",
    "    # Mask 15% of tokens\n",
    "    num_masks = max(1, int(len(tokens) * 0.15))\n",
    "    mask_indices = random.sample(range(len(tokens)), num_masks)\n",
    "    for idx in mask_indices:\n",
    "        if random.random() < 0.8:  # 80% replace with [MASK]\n",
    "            input_tokens[idx] = mask_token\n",
    "        elif random.random() < 0.5:  # 10% replace with random amino acid\n",
    "            input_tokens[idx] = random.choice(list(vocab))\n",
    "        labels[idx] = vocab[tokens[idx]]  # Store the original token as the label\n",
    "\n",
    "    return input_tokens, labels\n",
    "\n",
    "# Create a dataset with tokenized and masked sequences\n",
    "def prepare_data(sequences, vocab):\n",
    "    data = []\n",
    "    for seq in sequences:\n",
    "        input_tokens, labels = mask_sequence(seq, vocab)\n",
    "        input_ids = [vocab[tok] for tok in input_tokens]\n",
    "        data.append((input_ids, labels))\n",
    "    return data\n",
    "\n",
    "# Define amino acid vocabulary\n",
    "amino_acids = \"ABCDEFGHIJKLMNOPQRSTUVWXYZ\"  # Standard amino acids\n",
    "vocab = {aa: i for i, aa in enumerate(amino_acids)}\n",
    "vocab[\"[MASK]\"] = len(vocab)  # Add special [MASK] token\n",
    "vocab[\"[PAD]\"] = len(vocab)\n",
    "\n",
    "\n",
    "seq_len = 2048\n",
    "\n",
    "# Read sequences and split into train/val/test\n",
    "fasta_file = \"uniref50_10000_clusters.fasta\"\n",
    "sequences = read_fasta(fasta_file)\n",
    "sequences = sequences[:len(sequences)//100]\n",
    "sequences_cut  = [s for s in sequences if len(s)<=seq_len]\n",
    "train_seqs, temp_seqs = train_test_split(sequences_cut, test_size=0.3, random_state=42)\n",
    "val_seqs, test_seqs = train_test_split(temp_seqs, test_size=0.5, random_state=42)\n",
    "\n",
    "# Tokenize and mask sequences\n",
    "train_data = prepare_data(train_seqs, vocab)\n",
    "val_data = prepare_data(val_seqs, vocab)\n",
    "test_data = prepare_data(test_seqs, vocab)"
   ]
  },
  {
   "cell_type": "markdown",
   "id": "6b7713e2-2ce6-4ae8-91c6-6ee2a4a95040",
   "metadata": {},
   "source": [
    "# Define Transformer and Orchid Models"
   ]
  },
  {
   "cell_type": "markdown",
   "id": "cfc0a30e-3bf5-4464-b032-f357af2a3fd1",
   "metadata": {},
   "source": [
    "## Transformer Model"
   ]
  },
  {
   "cell_type": "code",
   "execution_count": 16,
   "id": "f09e946d-0b3c-417d-9cc9-9aced7984e07",
   "metadata": {
    "tags": []
   },
   "outputs": [],
   "source": [
    "from transformers import BertConfig, BertForMaskedLM\n",
    "\n",
    "# Define a transformer model (BERT)\n",
    "config = BertConfig(\n",
    "    vocab_size=len(vocab),  # Number of tokens in the vocabulary\n",
    "    hidden_size=128,\n",
    "    num_hidden_layers=3,\n",
    "    num_attention_heads=2,\n",
    "    intermediate_size=256,\n",
    "    hidden_dropout_prob=0.1,\n",
    "    max_position_embeddings=seq_len\n",
    ")\n",
    "transformer_model = BertForMaskedLM(config)"
   ]
  },
  {
   "cell_type": "code",
   "execution_count": 4,
   "id": "d0b67041-dbac-4144-8629-2ce0310fc6f5",
   "metadata": {
    "tags": []
   },
   "outputs": [
    {
     "data": {
      "text/plain": [
       "BertForMaskedLM(\n",
       "  (bert): BertModel(\n",
       "    (embeddings): BertEmbeddings(\n",
       "      (word_embeddings): Embedding(28, 128, padding_idx=0)\n",
       "      (position_embeddings): Embedding(2048, 128)\n",
       "      (token_type_embeddings): Embedding(2, 128)\n",
       "      (LayerNorm): LayerNorm((128,), eps=1e-12, elementwise_affine=True)\n",
       "      (dropout): Dropout(p=0.1, inplace=False)\n",
       "    )\n",
       "    (encoder): BertEncoder(\n",
       "      (layer): ModuleList(\n",
       "        (0-2): 3 x BertLayer(\n",
       "          (attention): BertAttention(\n",
       "            (self): BertSdpaSelfAttention(\n",
       "              (query): Linear(in_features=128, out_features=128, bias=True)\n",
       "              (key): Linear(in_features=128, out_features=128, bias=True)\n",
       "              (value): Linear(in_features=128, out_features=128, bias=True)\n",
       "              (dropout): Dropout(p=0.1, inplace=False)\n",
       "            )\n",
       "            (output): BertSelfOutput(\n",
       "              (dense): Linear(in_features=128, out_features=128, bias=True)\n",
       "              (LayerNorm): LayerNorm((128,), eps=1e-12, elementwise_affine=True)\n",
       "              (dropout): Dropout(p=0.1, inplace=False)\n",
       "            )\n",
       "          )\n",
       "          (intermediate): BertIntermediate(\n",
       "            (dense): Linear(in_features=128, out_features=256, bias=True)\n",
       "            (intermediate_act_fn): GELUActivation()\n",
       "          )\n",
       "          (output): BertOutput(\n",
       "            (dense): Linear(in_features=256, out_features=128, bias=True)\n",
       "            (LayerNorm): LayerNorm((128,), eps=1e-12, elementwise_affine=True)\n",
       "            (dropout): Dropout(p=0.1, inplace=False)\n",
       "          )\n",
       "        )\n",
       "      )\n",
       "    )\n",
       "  )\n",
       "  (cls): BertOnlyMLMHead(\n",
       "    (predictions): BertLMPredictionHead(\n",
       "      (transform): BertPredictionHeadTransform(\n",
       "        (dense): Linear(in_features=128, out_features=128, bias=True)\n",
       "        (transform_act_fn): GELUActivation()\n",
       "        (LayerNorm): LayerNorm((128,), eps=1e-12, elementwise_affine=True)\n",
       "      )\n",
       "      (decoder): Linear(in_features=128, out_features=28, bias=True)\n",
       "    )\n",
       "  )\n",
       ")"
      ]
     },
     "execution_count": 4,
     "metadata": {},
     "output_type": "execute_result"
    }
   ],
   "source": [
    "transformer_model"
   ]
  },
  {
   "cell_type": "markdown",
   "id": "a349e7a4-5206-4ce9-b72c-09e968f7ca16",
   "metadata": {},
   "source": [
    "## Orchid (Convolutional) Model"
   ]
  },
  {
   "cell_type": "code",
   "execution_count": 5,
   "id": "37c3f182-7a02-47c2-b8c6-4ff54bb58b27",
   "metadata": {
    "tags": []
   },
   "outputs": [],
   "source": [
    "import torch\n",
    "import torch.nn as nn\n",
    "from torch.fft import rfft, irfft\n",
    "from einops import rearrange\n",
    "from transformers.modeling_outputs import MaskedLMOutput\n",
    "\n",
    "class DiscreteTransform(nn.Module):\n",
    "    def __init__(self, mode=\"fft\", dim=-1):\n",
    "        super().__init__()\n",
    "        self.mode = mode\n",
    "        self.dim = dim\n",
    "\n",
    "    def forward(self, x):\n",
    "        if self.mode == \"fft\":\n",
    "            #print(f\"fft {x.shape}\")\n",
    "            return rfft(x, dim=self.dim)\n",
    "\n",
    "    def inverse(self, x):\n",
    "        if self.mode == \"fft\":\n",
    "            return irfft(x, dim=self.dim)\n",
    "\n",
    "class BertEmbeddings(nn.Module):\n",
    "    def __init__(self, config):\n",
    "        super().__init__()\n",
    "        self.word_embeddings = nn.Embedding(config.vocab_size, config.hidden_size, padding_idx=config.pad_token_id)\n",
    "        self.position_embeddings = nn.Embedding(config.max_position_embeddings, config.hidden_size)\n",
    "        self.token_type_embeddings = nn.Embedding(config.type_vocab_size, config.hidden_size)\n",
    "\n",
    "        self.LayerNorm = nn.LayerNorm(config.hidden_size, eps=config.layer_norm_eps)\n",
    "        self.dropout = nn.Dropout(config.hidden_dropout_prob)\n",
    "\n",
    "    def forward(self, input_ids, token_type_ids=None):\n",
    "        input_shape = input_ids.size()\n",
    "        seq_length = input_shape[1]\n",
    "\n",
    "        position_ids = torch.arange(seq_length, dtype=torch.long, device=input_ids.device)\n",
    "        position_ids = position_ids.unsqueeze(0).expand(input_shape)\n",
    "\n",
    "        if token_type_ids is None:\n",
    "            token_type_ids = torch.zeros(input_shape, dtype=torch.long, device=input_ids.device)\n",
    "\n",
    "        word_embeddings = self.word_embeddings(input_ids)\n",
    "        position_embeddings = self.position_embeddings(position_ids)\n",
    "        token_type_embeddings = self.token_type_embeddings(token_type_ids)\n",
    "\n",
    "        embeddings = word_embeddings + position_embeddings + token_type_embeddings\n",
    "        embeddings = self.LayerNorm(embeddings)\n",
    "        embeddings = self.dropout(embeddings)\n",
    "        return embeddings  \n",
    "'''    \n",
    "class StaticConv(nn.Module):\n",
    "    def __init__(self, d_model, d_filter, seq_len, vocab_size=vocab_size):\n",
    "        super().__init__()\n",
    "        # Create embeddings during initialization\n",
    "        self.embeddings = BertEmbeddings(\n",
    "            BertConfig(\n",
    "                vocab_size=vocab_size,\n",
    "                hidden_size=d_model,\n",
    "                max_position_embeddings=seq_len,\n",
    "                type_vocab_size=1,  # For simplicity, assuming one token type\n",
    "                layer_norm_eps=1e-12,\n",
    "                hidden_dropout_prob=0.1,\n",
    "            )\n",
    "        )\n",
    "\n",
    "        # Generate static positional encodings during initialization\n",
    "        with torch.no_grad():\n",
    "            dummy_input_ids = torch.zeros(seq_len, dtype=torch.long).unsqueeze(0)  # [1, seq_len]\n",
    "            self.static_filters = self.embeddings(dummy_input_ids).squeeze(0)  # [seq_len, d_model]\n",
    "\n",
    "        # Feedforward network for CKConv-style processing\n",
    "        self.ffn = nn.Sequential(\n",
    "            nn.Linear(d_model, d_filter),\n",
    "            nn.ReLU(),\n",
    "            nn.Linear(d_filter, d_model),  # Ensure output size matches d_model\n",
    "        )\n",
    "\n",
    "    def forward(self, batch_size):\n",
    "        # Expand static filters to match batch size\n",
    "        expanded_filters = self.static_filters.unsqueeze(0).expand(batch_size, -1, -1)  # [batch_size, seq_len, d_model]\n",
    "\n",
    "        # Apply feedforward network to static filters\n",
    "        return self.ffn(expanded_filters)\n",
    "\n",
    "class StaticConv(nn.Module):\n",
    "    def __init__(self, d_model, d_filter, seq_len):\n",
    "        super().__init__()\n",
    "        self.ffn = nn.Sequential(\n",
    "            nn.Linear(d_model, d_filter),\n",
    "            nn.ReLU(),\n",
    "            nn.Linear(d_filter, d_model)  # Ensure output size matches d_model\n",
    "        )\n",
    "        self.positional_encoding = nn.Parameter(\n",
    "            torch.randn(seq_len, d_model), requires_grad=True\n",
    "        )  # Learnable positional encoding\n",
    "\n",
    "    def forward(self, batch_size):\n",
    "        # Expand positional encodings to include the batch dimension\n",
    "        batch_positional_encoding = self.positional_encoding.unsqueeze(0).expand(batch_size, -1, -1)\n",
    "        # Apply feedforward network to each position\n",
    "        return self.ffn(batch_positional_encoding)\n",
    "'''\n",
    "\n",
    "class StaticConv(nn.Module):\n",
    "    def __init__(self, d_model, seq_len):\n",
    "        super().__init__()\n",
    "        self.positional_encoding = nn.Parameter(\n",
    "            torch.zeros(seq_len, d_model), requires_grad=False  # Non-learnable zeros\n",
    "        )\n",
    "\n",
    "    def forward(self, batch_size):\n",
    "        # Expand positional encodings to include the batch dimension\n",
    "        batch_positional_encoding = self.positional_encoding.unsqueeze(0).expand(batch_size, -1, -1)\n",
    "        return batch_positional_encoding\n",
    "\n",
    "\n",
    "class Abs(nn.Module):\n",
    "    def forward(self, x):\n",
    "        return torch.abs(x)\n",
    "    \n",
    "class OrchidOperator(nn.Module):\n",
    "    def __init__(self, d, seq_len, d_filter=64, l_conv1d=3, transform_mode=\"fft\"):\n",
    "        super().__init__()\n",
    "        self.d_model = d\n",
    "        self.seq_len = seq_len\n",
    "\n",
    "        self.in_linear = nn.Linear(d, 3 * d)\n",
    "        self.out_linear = nn.Linear(d, d)\n",
    "\n",
    "        width = d * 3\n",
    "        self.short_filter = nn.Conv1d(width , width , kernel_size = l_conv1d , groups =width , padding = l_conv1d // 2)\n",
    "        '''\n",
    "        self.short_filter = nn.Conv1d(\n",
    "            d, d, kernel_size=l_conv1d, groups=d, padding=l_conv1d // 2\n",
    "        )\n",
    "\n",
    "        \n",
    "        self.static_conv = nn.Sequential(\n",
    "            nn.Linear(d, d_filter), nn.ReLU(), nn.Linear(d_filter, d_filter)\n",
    "        )\n",
    "        '''\n",
    "        \n",
    "       \n",
    "        self.static_conv = StaticConv(d, seq_len)\n",
    "        #self.static_conv = StaticConv(d, d_filter, seq_len)\n",
    "\n",
    "        self.conditioning_nn = nn.Sequential(\n",
    "            nn.Conv1d(d, d, kernel_size = l_conv1d, padding=l_conv1d // 2, groups=d),\n",
    "            DiscreteTransform(mode=transform_mode, dim=-1),\n",
    "            Abs(),\n",
    "            nn.Conv1d(d, d, kernel_size = l_conv1d, padding=l_conv1d // 2, groups=d),\n",
    "        )\n",
    "\n",
    "        self.transform = DiscreteTransform(mode=transform_mode, dim=-1)\n",
    "\n",
    "    def forward(self, x):\n",
    "        batch, seq_len, dim = x.size()\n",
    "        orig_x = x\n",
    "\n",
    "        x = self.in_linear(x)\n",
    "        x = nn.functional.gelu(x)\n",
    "        #_, _, v = torch.split(x, dim, dim=-1)\n",
    "        _, _, v = x.split(self.d_model, dim=-1)\n",
    "        #print(v.shape)\n",
    "\n",
    "        h_adapt_f = self.conditioning_nn(rearrange(v, \"b l d -> b d l\"))\n",
    "        \n",
    "        h_static = self.static_conv(batch).transpose(1, 2)\n",
    "\n",
    "        x = rearrange(x, \"b l d -> b d l\")\n",
    "        x = self.short_filter(x)[..., : self.seq_len]\n",
    "        s1, s2, v = x.split(self.d_model, dim=1)\n",
    "\n",
    "        y = v * s1\n",
    "        y = self.adaptive_conv(y, h_static, h_adapt_f)\n",
    "        y = y * s2\n",
    "        y = rearrange(y, \"b d l -> b l d\")\n",
    "        y = self.out_linear(y)\n",
    "        y = nn.functional.gelu(y)\n",
    "\n",
    "        return self.out_linear(y)\n",
    "\n",
    "    def adaptive_conv(self, x, h_static, h_adapt_f):\n",
    "        h_static_f = self.transform(h_static)\n",
    "        x_f = self.transform(x)\n",
    "        \n",
    "        #print(f\"self seq {self.seq_len}, h_static_f {h_static_f.shape}, h_adapt_f {h_adapt_f.shape},  x_f { x_f.shape},  h_static {h_static.shape}, x {x.shape}\")\n",
    "        \n",
    "        y = self.transform.inverse(x_f * (h_static_f + h_adapt_f))\n",
    "        return y[..., : self.seq_len]\n",
    "\n",
    "class OrchidBertLayer(nn.Module):\n",
    "    def __init__(self, config, seq_len, l_conv1d):\n",
    "        super().__init__()\n",
    "        self.seq_len = seq_len\n",
    "        self.orchid = OrchidOperator(\n",
    "            d=config.hidden_size,\n",
    "            seq_len=seq_len,\n",
    "            d_filter=64,  # Adjust as needed\n",
    "            l_conv1d=l_conv1d,   # Adjust as needed\n",
    "            transform_mode=\"fft\"\n",
    "        )\n",
    "        self.intermediate = nn.Linear(config.hidden_size, config.intermediate_size)\n",
    "        self.output = nn.Linear(config.intermediate_size, config.hidden_size)\n",
    "        self.norm1 = nn.LayerNorm(config.hidden_size, eps=1e-12)\n",
    "        self.norm2 = nn.LayerNorm(config.hidden_size, eps=1e-12)\n",
    "        self.dropout1 = nn.Dropout(config.hidden_dropout_prob)\n",
    "        self.dropout2 = nn.Dropout(config.hidden_dropout_prob)\n",
    "\n",
    "        '''\n",
    "    def forward(self, hidden_states, position_embeddings):\n",
    "        # Pass hidden_states and positional embeddings to Orchid layer\n",
    "        orchid_output = self.orchid(hidden_states + position_embeddings)\n",
    "        hidden_states = hidden_states + self.dropout1(orchid_output)\n",
    "        hidden_states = self.norm1(hidden_states)\n",
    "\n",
    "        # Feedforward block\n",
    "        intermediate_output = self.intermediate(hidden_states)\n",
    "        intermediate_output = nn.functional.gelu(intermediate_output)\n",
    "        layer_output = self.output(intermediate_output)\n",
    "        hidden_states = hidden_states + self.dropout2(layer_output)\n",
    "        hidden_states = self.norm2(hidden_states)\n",
    "\n",
    "        return hidden_states\n",
    "        '''\n",
    "    \n",
    "    def forward(self, hidden_states):\n",
    "        # Pass hidden_states and positional embeddings to Orchid layer\n",
    "        orchid_output = self.orchid(hidden_states)\n",
    "        hidden_states = hidden_states + self.dropout1(orchid_output)\n",
    "        hidden_states = self.norm1(hidden_states)\n",
    "\n",
    "        # Feedforward block\n",
    "        intermediate_output = self.intermediate(hidden_states)\n",
    "        intermediate_output = nn.functional.gelu(intermediate_output)\n",
    "        layer_output = self.output(intermediate_output)\n",
    "        hidden_states = hidden_states + self.dropout2(layer_output)\n",
    "        hidden_states = self.norm2(hidden_states)\n",
    "\n",
    "        return hidden_states\n",
    "\n",
    "class OrchidBERT(nn.Module):\n",
    "    def __init__(self, config, seq_len, l_conv1d):\n",
    "        super().__init__()\n",
    "        self.embeddings = BertEmbeddings(config)\n",
    "        self.encoder_layers = nn.ModuleList(\n",
    "            [OrchidBertLayer(config, seq_len, l_conv1d) for _ in range(config.num_hidden_layers)]\n",
    "        )\n",
    "        self.cls_head = nn.Linear(config.hidden_size, config.vocab_size)  # For Masked LM\n",
    "\n",
    "    def forward(self, input_ids, attention_mask=None):\n",
    "        # Compute embeddings\n",
    "        embeddings = self.embeddings(input_ids)\n",
    "        #position_embeddings = self.embeddings.position_embeddings.weight.unsqueeze(0)\n",
    "        hidden_states = embeddings\n",
    "\n",
    "        # Apply attention mask to embeddings if needed\n",
    "        if attention_mask is not None:\n",
    "            attention_mask = attention_mask.unsqueeze(-1)  # Match embedding dimensions\n",
    "            hidden_states = hidden_states * attention_mask\n",
    "        \n",
    "        \n",
    "        # Pass through Orchid-enhanced Transformer layers\n",
    "        for layer in self.encoder_layers:\n",
    "            #hidden_states = layer(hidden_states, position_embeddings)\n",
    "            hidden_states = layer(hidden_states)\n",
    "\n",
    "        logits = self.cls_head(hidden_states)\n",
    "        probs = nn.functional.softmax(logits, dim=-1)\n",
    "        \n",
    "        return MaskedLMOutput(\n",
    "            loss=None,\n",
    "            logits=probs,\n",
    "            hidden_states=None,  # Optionally return hidden states if needed\n",
    "            attentions=None      # Optionally return attentions if needed\n",
    "        )"
   ]
  },
  {
   "cell_type": "code",
   "execution_count": 19,
   "id": "cac52267-ffb8-4b7e-9117-92f5b98fcc16",
   "metadata": {
    "tags": []
   },
   "outputs": [],
   "source": [
    "vocab_size = len(vocab)\n",
    "  # Adjust based on your dataset\n",
    "orchid_model = OrchidBERT(config, seq_len, l_conv1d=11)"
   ]
  },
  {
   "cell_type": "code",
   "execution_count": 7,
   "id": "621102a0-3ae0-4dde-9d16-35ebb5ce77fc",
   "metadata": {
    "tags": []
   },
   "outputs": [
    {
     "data": {
      "text/plain": [
       "OrchidBERT(\n",
       "  (embeddings): BertEmbeddings(\n",
       "    (word_embeddings): Embedding(28, 128, padding_idx=0)\n",
       "    (position_embeddings): Embedding(2048, 128)\n",
       "    (token_type_embeddings): Embedding(2, 128)\n",
       "    (LayerNorm): LayerNorm((128,), eps=1e-12, elementwise_affine=True)\n",
       "    (dropout): Dropout(p=0.1, inplace=False)\n",
       "  )\n",
       "  (encoder_layers): ModuleList(\n",
       "    (0-2): 3 x OrchidBertLayer(\n",
       "      (orchid): OrchidOperator(\n",
       "        (in_linear): Linear(in_features=128, out_features=384, bias=True)\n",
       "        (out_linear): Linear(in_features=128, out_features=128, bias=True)\n",
       "        (short_filter): Conv1d(384, 384, kernel_size=(11,), stride=(1,), padding=(5,), groups=384)\n",
       "        (static_conv): StaticConv()\n",
       "        (conditioning_nn): Sequential(\n",
       "          (0): Conv1d(128, 128, kernel_size=(11,), stride=(1,), padding=(5,), groups=128)\n",
       "          (1): DiscreteTransform()\n",
       "          (2): Abs()\n",
       "          (3): Conv1d(128, 128, kernel_size=(11,), stride=(1,), padding=(5,), groups=128)\n",
       "        )\n",
       "        (transform): DiscreteTransform()\n",
       "      )\n",
       "      (intermediate): Linear(in_features=128, out_features=256, bias=True)\n",
       "      (output): Linear(in_features=256, out_features=128, bias=True)\n",
       "      (norm1): LayerNorm((128,), eps=1e-12, elementwise_affine=True)\n",
       "      (norm2): LayerNorm((128,), eps=1e-12, elementwise_affine=True)\n",
       "      (dropout1): Dropout(p=0.1, inplace=False)\n",
       "      (dropout2): Dropout(p=0.1, inplace=False)\n",
       "    )\n",
       "  )\n",
       "  (cls_head): Linear(in_features=128, out_features=28, bias=True)\n",
       ")"
      ]
     },
     "execution_count": 7,
     "metadata": {},
     "output_type": "execute_result"
    }
   ],
   "source": [
    "orchid_model\n"
   ]
  },
  {
   "cell_type": "markdown",
   "id": "6d8a3296-ab89-4c8f-a2c3-bdd86af7a3fb",
   "metadata": {
    "tags": []
   },
   "source": [
    "BertForMaskedLM(\n",
    "  (bert): BertModel(\n",
    "    (embeddings): BertEmbeddings(\n",
    "      (word_embeddings): Embedding(28, 128, padding_idx=0)\n",
    "      (position_embeddings): Embedding(1024, 128)\n",
    "      (token_type_embeddings): Embedding(2, 128)\n",
    "      (LayerNorm): LayerNorm((128,), eps=1e-12, elementwise_affine=True)\n",
    "      (dropout): Dropout(p=0.1, inplace=False)\n",
    "    )\n",
    "    (encoder): BertEncoder(\n",
    "      (layer): ModuleList(\n",
    "        (0-3): 4 x BertLayer(\n",
    "          (attention): BertAttention(\n",
    "            (self): BertSdpaSelfAttention(\n",
    "              (query): Linear(in_features=128, out_features=128, bias=True)\n",
    "              (key): Linear(in_features=128, out_features=128, bias=True)\n",
    "              (value): Linear(in_features=128, out_features=128, bias=True)\n",
    "              (dropout): Dropout(p=0.1, inplace=False)\n",
    "            )\n",
    "            (output): BertSelfOutput(\n",
    "              (dense): Linear(in_features=128, out_features=128, bias=True)\n",
    "              (LayerNorm): LayerNorm((128,), eps=1e-12, elementwise_affine=True)\n",
    "              (dropout): Dropout(p=0.1, inplace=False)\n",
    "            )\n",
    "          )\n",
    "          (intermediate): BertIntermediate(\n",
    "            (dense): Linear(in_features=128, out_features=512, bias=True)\n",
    "            (intermediate_act_fn): GELUActivation()\n",
    "          )\n",
    "          (output): BertOutput(\n",
    "            (dense): Linear(in_features=512, out_features=128, bias=True)\n",
    "            (LayerNorm): LayerNorm((128,), eps=1e-12, elementwise_affine=True)\n",
    "            (dropout): Dropout(p=0.1, inplace=False)\n",
    "          )\n",
    "        )\n",
    "      )\n",
    "    )\n",
    "  )\n",
    "  (cls): BertOnlyMLMHead(\n",
    "    (predictions): BertLMPredictionHead(\n",
    "      (transform): BertPredictionHeadTransform(\n",
    "        (dense): Linear(in_features=128, out_features=128, bias=True)\n",
    "        (transform_act_fn): GELUActivation()\n",
    "        (LayerNorm): LayerNorm((128,), eps=1e-12, elementwise_affine=True)\n",
    "      )\n",
    "      (decoder): Linear(in_features=128, out_features=28, bias=True)\n",
    "    )\n",
    "  )\n",
    ")"
   ]
  },
  {
   "cell_type": "code",
   "execution_count": 8,
   "id": "08301a78-2d30-49f7-b546-06a27325c127",
   "metadata": {
    "tags": []
   },
   "outputs": [
    {
     "name": "stdout",
     "output_type": "stream",
     "text": [
      "680476\n",
      "690332\n"
     ]
    }
   ],
   "source": [
    "def count_parameters(model):\n",
    "    return sum(p.numel() for p in model.parameters() if p.requires_grad)\n",
    "print(count_parameters(transformer_model))\n",
    "print(count_parameters(orchid_model))"
   ]
  },
  {
   "cell_type": "markdown",
   "id": "5d535651-854c-4285-9081-f0ab0d8aa030",
   "metadata": {},
   "source": [
    "# Test"
   ]
  },
  {
   "cell_type": "code",
   "execution_count": 20,
   "id": "89c9703d-2f96-440f-b999-7cdcf1d727cb",
   "metadata": {
    "tags": []
   },
   "outputs": [],
   "source": [
    "from torch.utils.data import DataLoader, Dataset\n",
    "from transformers import AdamW\n",
    "from sklearn.metrics import accuracy_score\n",
    "import matplotlib.pyplot as plt\n",
    "from tqdm import tqdm\n",
    "\n",
    "# Custom PyTorch Dataset\n",
    "class ProteinDataset(Dataset):\n",
    "    def __init__(self, data, max_len=seq_len, pad_token=\"[PAD]\"):\n",
    "        self.data = data\n",
    "        self.max_len = max_len\n",
    "        self.pad_token = pad_token\n",
    "\n",
    "    def __len__(self):\n",
    "        return len(self.data)\n",
    "\n",
    "    def __getitem__(self, idx):\n",
    "        input_ids, labels = self.data[idx]\n",
    "\n",
    "        # Pad input_ids and labels to max_len\n",
    "        padding_length = self.max_len - len(input_ids)\n",
    "        if padding_length > 0:\n",
    "            input_ids = input_ids + [vocab[self.pad_token]] * padding_length\n",
    "            labels = labels + [-100] * padding_length\n",
    "            \n",
    "        attention_mask = [1] * (self.max_len - padding_length) + [0] * padding_length\n",
    "\n",
    "        return (\n",
    "            torch.tensor(input_ids),\n",
    "            torch.tensor(labels),\n",
    "            torch.tensor(attention_mask)\n",
    "        )    \n",
    "    \n",
    "    \n",
    "# Prepare DataLoaders\n",
    "batch_size = 32\n",
    "train_loader = DataLoader(ProteinDataset(train_data), batch_size=batch_size, shuffle=True)\n",
    "val_loader = DataLoader(ProteinDataset(val_data), batch_size=batch_size)\n",
    "test_loader = DataLoader(ProteinDataset(test_data), batch_size=batch_size)\n",
    "\n",
    "device = torch.device(\"cuda\" if torch.cuda.is_available() else \"cpu\")\n",
    "#device = torch.device(\"cpu\")\n",
    "transformer_model.to(device)\n",
    "orchid_model.to(device)\n",
    "\n",
    "transformer_path = \"transformer_model\"\n",
    "orchid_path = \"orchid_model\"\n",
    "\n",
    "# Training Loop\n",
    "def train(model, train_loader, val_loader, save_path, epochs=20, patience=3):\n",
    "    optimizer = AdamW(model.parameters(), lr=5e-4)\n",
    "    criterion = nn.CrossEntropyLoss(ignore_index=-100)  # Ignore non-masked positions\n",
    "\n",
    "    train_acc, val_acc = [], []\n",
    "    best_val_loss = float(\"inf\")\n",
    "    best_val_acc = 0.0\n",
    "    early_stop_counter = 0\n",
    "\n",
    "    for epoch in range(epochs):\n",
    "        # Training\n",
    "        model.train()\n",
    "        total_loss, correct, total = 0, 0, 0\n",
    "        #for input_ids, labels, attention_mask in train_loader:\n",
    "        for batch in tqdm(train_loader, desc=f\"Training Epoch {epoch + 1}\"):\n",
    "            # Process each batch\n",
    "            input_ids = batch[0].long().to(device, non_blocking=True)\n",
    "            labels = batch[1].long().to(device, non_blocking=True)\n",
    "            attention_mask = batch[2].long().to(device, non_blocking=True)\n",
    "            optimizer.zero_grad()\n",
    "            logits = model(input_ids,attention_mask=attention_mask).logits\n",
    "            loss = criterion(logits.view(-1, logits.size(-1)), labels.view(-1))\n",
    "            #loss = criterion(logits.logits.view(-1, logits.logits.size(-1)), labels.view(-1))\n",
    "            loss.backward()\n",
    "            optimizer.step()\n",
    "            total_loss += loss.item()\n",
    "\n",
    "            # Compute accuracy\n",
    "            predictions = logits.argmax(dim=-1)\n",
    "            #print(f\"pred {predictions.shape}, label {labels.shape}\")\n",
    "            correct += (predictions == labels).sum().item()\n",
    "            total += (labels != -100).sum().item()\n",
    "            \n",
    "            #print(predictions)\n",
    "            #print(labels)\n",
    "        train_acc.append(correct / total)\n",
    "\n",
    "        # Validation\n",
    "        model.eval()\n",
    "        val_loss, correct, total = 0, 0, 0\n",
    "        with torch.no_grad():\n",
    "            #for input_ids, labels, attention_mask in val_loader:\n",
    "            for batch in tqdm(val_loader, desc=f\"Val Epoch {epoch + 1}\"):\n",
    "                # Process each batch\n",
    "                input_ids = batch[0].to(device, non_blocking=True)\n",
    "                labels = batch[1].to(device, non_blocking=True)\n",
    "                attention_mask = batch[2].to(device, non_blocking=True)\n",
    "                logits = model(input_ids,attention_mask=attention_mask).logits\n",
    "                loss = criterion(logits.view(-1, logits.size(-1)), labels.view(-1))\n",
    "                val_loss += loss.item()\n",
    "                predictions = logits.argmax(dim=-1)\n",
    "                correct += (predictions == labels).sum().item()\n",
    "                total += (labels != -100).sum().item()\n",
    "                \n",
    "\n",
    "        val_acc.append(correct / total)\n",
    "\n",
    "        print(f\"Epoch {epoch + 1}: Train Acc={train_acc[-1]:.4f}, Val Acc={val_acc[-1]:.4f}\")\n",
    "        \n",
    "        # Save the best model (based on validation accuracy)\n",
    "        if val_acc[-1] > best_val_acc or (val_acc[-1] == best_val_acc and val_loss < best_val_loss):\n",
    "            print(f\"Saving model with Val Acc={val_acc[-1]:.4f}, Val Loss={val_loss:.4f}\")\n",
    "            best_val_acc = val_acc[-1]\n",
    "            #best_val_loss = val_loss\n",
    "            torch.save(model.state_dict(), save_path)\n",
    "            \n",
    "        # Early Stopping\n",
    "        if val_loss < best_val_loss:\n",
    "            best_val_loss = val_loss\n",
    "            early_stop_counter = 0\n",
    "        else:\n",
    "            early_stop_counter += 1\n",
    "            if early_stop_counter >= patience:\n",
    "                print(\"Early stopping...\")\n",
    "                break\n",
    "\n",
    "    return train_acc, val_acc\n",
    "\n"
   ]
  },
  {
   "cell_type": "code",
   "execution_count": 21,
   "id": "445bedfe-905f-45f8-b9d3-0e437f3271f4",
   "metadata": {},
   "outputs": [
    {
     "name": "stderr",
     "output_type": "stream",
     "text": [
      "Training Epoch 1: 100%|████████████████████████████████████████████████████████████████| 22/22 [00:13<00:00,  1.58it/s]\n",
      "Val Epoch 1: 100%|███████████████████████████████████████████████████████████████████████| 5/5 [00:01<00:00,  4.89it/s]\n"
     ]
    },
    {
     "name": "stdout",
     "output_type": "stream",
     "text": [
      "Epoch 1: Train Acc=0.0857, Val Acc=0.0933\n",
      "Saving model with Val Acc=0.0933, Val Loss=16.4592\n"
     ]
    },
    {
     "name": "stderr",
     "output_type": "stream",
     "text": [
      "Training Epoch 2: 100%|████████████████████████████████████████████████████████████████| 22/22 [00:13<00:00,  1.60it/s]\n",
      "Val Epoch 2: 100%|███████████████████████████████████████████████████████████████████████| 5/5 [00:01<00:00,  4.94it/s]\n"
     ]
    },
    {
     "name": "stdout",
     "output_type": "stream",
     "text": [
      "Epoch 2: Train Acc=0.0871, Val Acc=0.0933\n",
      "Saving model with Val Acc=0.0933, Val Loss=16.4454\n"
     ]
    },
    {
     "name": "stderr",
     "output_type": "stream",
     "text": [
      "Training Epoch 3: 100%|████████████████████████████████████████████████████████████████| 22/22 [00:13<00:00,  1.60it/s]\n",
      "Val Epoch 3: 100%|███████████████████████████████████████████████████████████████████████| 5/5 [00:01<00:00,  4.94it/s]\n"
     ]
    },
    {
     "name": "stdout",
     "output_type": "stream",
     "text": [
      "Epoch 3: Train Acc=0.0909, Val Acc=0.0933\n",
      "Saving model with Val Acc=0.0933, Val Loss=16.4374\n"
     ]
    },
    {
     "name": "stderr",
     "output_type": "stream",
     "text": [
      "Training Epoch 4: 100%|████████████████████████████████████████████████████████████████| 22/22 [00:13<00:00,  1.60it/s]\n",
      "Val Epoch 4: 100%|███████████████████████████████████████████████████████████████████████| 5/5 [00:01<00:00,  4.98it/s]\n"
     ]
    },
    {
     "name": "stdout",
     "output_type": "stream",
     "text": [
      "Epoch 4: Train Acc=0.0920, Val Acc=0.0998\n",
      "Saving model with Val Acc=0.0998, Val Loss=16.4034\n"
     ]
    },
    {
     "name": "stderr",
     "output_type": "stream",
     "text": [
      "Training Epoch 5: 100%|████████████████████████████████████████████████████████████████| 22/22 [00:13<00:00,  1.60it/s]\n",
      "Val Epoch 5: 100%|███████████████████████████████████████████████████████████████████████| 5/5 [00:01<00:00,  4.99it/s]\n"
     ]
    },
    {
     "name": "stdout",
     "output_type": "stream",
     "text": [
      "Epoch 5: Train Acc=0.1055, Val Acc=0.1148\n",
      "Saving model with Val Acc=0.1148, Val Loss=16.3337\n"
     ]
    },
    {
     "name": "stderr",
     "output_type": "stream",
     "text": [
      "Training Epoch 6: 100%|████████████████████████████████████████████████████████████████| 22/22 [00:13<00:00,  1.60it/s]\n",
      "Val Epoch 6: 100%|███████████████████████████████████████████████████████████████████████| 5/5 [00:01<00:00,  4.93it/s]\n"
     ]
    },
    {
     "name": "stdout",
     "output_type": "stream",
     "text": [
      "Epoch 6: Train Acc=0.1208, Val Acc=0.1411\n",
      "Saving model with Val Acc=0.1411, Val Loss=16.2562\n"
     ]
    },
    {
     "name": "stderr",
     "output_type": "stream",
     "text": [
      "Training Epoch 7: 100%|████████████████████████████████████████████████████████████████| 22/22 [00:13<00:00,  1.60it/s]\n",
      "Val Epoch 7: 100%|███████████████████████████████████████████████████████████████████████| 5/5 [00:01<00:00,  4.96it/s]\n"
     ]
    },
    {
     "name": "stdout",
     "output_type": "stream",
     "text": [
      "Epoch 7: Train Acc=0.1613, Val Acc=0.1689\n",
      "Saving model with Val Acc=0.1689, Val Loss=16.0782\n"
     ]
    },
    {
     "name": "stderr",
     "output_type": "stream",
     "text": [
      "Training Epoch 8: 100%|████████████████████████████████████████████████████████████████| 22/22 [00:13<00:00,  1.60it/s]\n",
      "Val Epoch 8: 100%|███████████████████████████████████████████████████████████████████████| 5/5 [00:01<00:00,  4.96it/s]\n"
     ]
    },
    {
     "name": "stdout",
     "output_type": "stream",
     "text": [
      "Epoch 8: Train Acc=0.1765, Val Acc=0.1744\n",
      "Saving model with Val Acc=0.1744, Val Loss=16.0571\n"
     ]
    },
    {
     "name": "stderr",
     "output_type": "stream",
     "text": [
      "Training Epoch 9: 100%|████████████████████████████████████████████████████████████████| 22/22 [00:13<00:00,  1.60it/s]\n",
      "Val Epoch 9: 100%|███████████████████████████████████████████████████████████████████████| 5/5 [00:01<00:00,  4.85it/s]\n"
     ]
    },
    {
     "name": "stdout",
     "output_type": "stream",
     "text": [
      "Epoch 9: Train Acc=0.1839, Val Acc=0.1763\n",
      "Saving model with Val Acc=0.1763, Val Loss=16.0575\n"
     ]
    },
    {
     "name": "stderr",
     "output_type": "stream",
     "text": [
      "Training Epoch 10: 100%|███████████████████████████████████████████████████████████████| 22/22 [00:13<00:00,  1.60it/s]\n",
      "Val Epoch 10: 100%|██████████████████████████████████████████████████████████████████████| 5/5 [00:01<00:00,  4.86it/s]\n"
     ]
    },
    {
     "name": "stdout",
     "output_type": "stream",
     "text": [
      "Epoch 10: Train Acc=0.1916, Val Acc=0.1734\n"
     ]
    },
    {
     "name": "stderr",
     "output_type": "stream",
     "text": [
      "Training Epoch 11: 100%|███████████████████████████████████████████████████████████████| 22/22 [00:13<00:00,  1.60it/s]\n",
      "Val Epoch 11: 100%|██████████████████████████████████████████████████████████████████████| 5/5 [00:01<00:00,  4.87it/s]"
     ]
    },
    {
     "name": "stdout",
     "output_type": "stream",
     "text": [
      "Epoch 11: Train Acc=0.1969, Val Acc=0.1730\n",
      "Early stopping...\n"
     ]
    },
    {
     "name": "stderr",
     "output_type": "stream",
     "text": [
      "\n"
     ]
    }
   ],
   "source": [
    "# Train Orchid\n",
    "orchid_acc = train(orchid_model, train_loader, val_loader,orchid_path)"
   ]
  },
  {
   "cell_type": "code",
   "execution_count": 18,
   "id": "28a760e5-b7a5-4954-8465-bec6a045396e",
   "metadata": {
    "tags": []
   },
   "outputs": [
    {
     "name": "stderr",
     "output_type": "stream",
     "text": [
      "Training Epoch 1: 100%|████████████████████████████████████████████████████████████████| 22/22 [01:06<00:00,  3.01s/it]\n",
      "Val Epoch 1: 100%|███████████████████████████████████████████████████████████████████████| 5/5 [00:03<00:00,  1.27it/s]\n"
     ]
    },
    {
     "name": "stdout",
     "output_type": "stream",
     "text": [
      "Epoch 1: Train Acc=0.1008, Val Acc=0.1320\n",
      "Saving model with Val Acc=0.1320, Val Loss=14.4821\n"
     ]
    },
    {
     "name": "stderr",
     "output_type": "stream",
     "text": [
      "Training Epoch 2: 100%|████████████████████████████████████████████████████████████████| 22/22 [01:06<00:00,  3.02s/it]\n",
      "Val Epoch 2: 100%|███████████████████████████████████████████████████████████████████████| 5/5 [00:04<00:00,  1.24it/s]\n"
     ]
    },
    {
     "name": "stdout",
     "output_type": "stream",
     "text": [
      "Epoch 2: Train Acc=0.1582, Val Acc=0.1660\n",
      "Saving model with Val Acc=0.1660, Val Loss=13.9639\n"
     ]
    },
    {
     "name": "stderr",
     "output_type": "stream",
     "text": [
      "Training Epoch 3: 100%|████████████████████████████████████████████████████████████████| 22/22 [01:06<00:00,  3.00s/it]\n",
      "Val Epoch 3: 100%|███████████████████████████████████████████████████████████████████████| 5/5 [00:03<00:00,  1.27it/s]\n"
     ]
    },
    {
     "name": "stdout",
     "output_type": "stream",
     "text": [
      "Epoch 3: Train Acc=0.1792, Val Acc=0.1679\n",
      "Saving model with Val Acc=0.1679, Val Loss=13.7934\n"
     ]
    },
    {
     "name": "stderr",
     "output_type": "stream",
     "text": [
      "Training Epoch 4: 100%|████████████████████████████████████████████████████████████████| 22/22 [01:06<00:00,  3.01s/it]\n",
      "Val Epoch 4: 100%|███████████████████████████████████████████████████████████████████████| 5/5 [00:03<00:00,  1.27it/s]\n"
     ]
    },
    {
     "name": "stdout",
     "output_type": "stream",
     "text": [
      "Epoch 4: Train Acc=0.1954, Val Acc=0.1715\n",
      "Saving model with Val Acc=0.1715, Val Loss=13.8109\n"
     ]
    },
    {
     "name": "stderr",
     "output_type": "stream",
     "text": [
      "Training Epoch 5: 100%|████████████████████████████████████████████████████████████████| 22/22 [01:06<00:00,  3.01s/it]\n",
      "Val Epoch 5: 100%|███████████████████████████████████████████████████████████████████████| 5/5 [00:03<00:00,  1.27it/s]\n"
     ]
    },
    {
     "name": "stdout",
     "output_type": "stream",
     "text": [
      "Epoch 5: Train Acc=0.2123, Val Acc=0.1701\n"
     ]
    },
    {
     "name": "stderr",
     "output_type": "stream",
     "text": [
      "Training Epoch 6: 100%|████████████████████████████████████████████████████████████████| 22/22 [01:06<00:00,  3.01s/it]\n",
      "Val Epoch 6: 100%|███████████████████████████████████████████████████████████████████████| 5/5 [00:03<00:00,  1.27it/s]"
     ]
    },
    {
     "name": "stdout",
     "output_type": "stream",
     "text": [
      "Epoch 6: Train Acc=0.2219, Val Acc=0.1773\n",
      "Saving model with Val Acc=0.1773, Val Loss=13.9634\n",
      "Early stopping...\n"
     ]
    },
    {
     "name": "stderr",
     "output_type": "stream",
     "text": [
      "\n"
     ]
    }
   ],
   "source": [
    "# Train Transformer\n",
    "transformer_acc = train(transformer_model, train_loader, val_loader,transformer_path)"
   ]
  },
  {
   "cell_type": "code",
   "execution_count": 22,
   "id": "a944de32-300e-4a9e-86ae-c38870a90d9c",
   "metadata": {},
   "outputs": [
    {
     "name": "stderr",
     "output_type": "stream",
     "text": [
      "C:\\Users\\Public\\Documents\\Wondershare\\CreatorTemp\\ipykernel_28824\\3798188090.py:2: FutureWarning: You are using `torch.load` with `weights_only=False` (the current default value), which uses the default pickle module implicitly. It is possible to construct malicious pickle data which will execute arbitrary code during unpickling (See https://github.com/pytorch/pytorch/blob/main/SECURITY.md#untrusted-models for more details). In a future release, the default value for `weights_only` will be flipped to `True`. This limits the functions that could be executed during unpickling. Arbitrary objects will no longer be allowed to be loaded via this mode unless they are explicitly allowlisted by the user via `torch.serialization.add_safe_globals`. We recommend you start setting `weights_only=True` for any use case where you don't have full control of the loaded file. Please open an issue on GitHub for any issues related to this experimental feature.\n",
      "  transformer_model.load_state_dict(torch.load(transformer_path))\n",
      "C:\\Users\\Public\\Documents\\Wondershare\\CreatorTemp\\ipykernel_28824\\3798188090.py:6: FutureWarning: You are using `torch.load` with `weights_only=False` (the current default value), which uses the default pickle module implicitly. It is possible to construct malicious pickle data which will execute arbitrary code during unpickling (See https://github.com/pytorch/pytorch/blob/main/SECURITY.md#untrusted-models for more details). In a future release, the default value for `weights_only` will be flipped to `True`. This limits the functions that could be executed during unpickling. Arbitrary objects will no longer be allowed to be loaded via this mode unless they are explicitly allowlisted by the user via `torch.serialization.add_safe_globals`. We recommend you start setting `weights_only=True` for any use case where you don't have full control of the loaded file. Please open an issue on GitHub for any issues related to this experimental feature.\n",
      "  orchid_model.load_state_dict(torch.load(orchid_path))\n"
     ]
    },
    {
     "data": {
      "text/plain": [
       "OrchidBERT(\n",
       "  (embeddings): BertEmbeddings(\n",
       "    (word_embeddings): Embedding(28, 128, padding_idx=0)\n",
       "    (position_embeddings): Embedding(2048, 128)\n",
       "    (token_type_embeddings): Embedding(2, 128)\n",
       "    (LayerNorm): LayerNorm((128,), eps=1e-12, elementwise_affine=True)\n",
       "    (dropout): Dropout(p=0.1, inplace=False)\n",
       "  )\n",
       "  (encoder_layers): ModuleList(\n",
       "    (0-2): 3 x OrchidBertLayer(\n",
       "      (orchid): OrchidOperator(\n",
       "        (in_linear): Linear(in_features=128, out_features=384, bias=True)\n",
       "        (out_linear): Linear(in_features=128, out_features=128, bias=True)\n",
       "        (short_filter): Conv1d(384, 384, kernel_size=(11,), stride=(1,), padding=(5,), groups=384)\n",
       "        (static_conv): StaticConv()\n",
       "        (conditioning_nn): Sequential(\n",
       "          (0): Conv1d(128, 128, kernel_size=(11,), stride=(1,), padding=(5,), groups=128)\n",
       "          (1): DiscreteTransform()\n",
       "          (2): Abs()\n",
       "          (3): Conv1d(128, 128, kernel_size=(11,), stride=(1,), padding=(5,), groups=128)\n",
       "        )\n",
       "        (transform): DiscreteTransform()\n",
       "      )\n",
       "      (intermediate): Linear(in_features=128, out_features=256, bias=True)\n",
       "      (output): Linear(in_features=256, out_features=128, bias=True)\n",
       "      (norm1): LayerNorm((128,), eps=1e-12, elementwise_affine=True)\n",
       "      (norm2): LayerNorm((128,), eps=1e-12, elementwise_affine=True)\n",
       "      (dropout1): Dropout(p=0.1, inplace=False)\n",
       "      (dropout2): Dropout(p=0.1, inplace=False)\n",
       "    )\n",
       "  )\n",
       "  (cls_head): Linear(in_features=128, out_features=28, bias=True)\n",
       ")"
      ]
     },
     "execution_count": 22,
     "metadata": {},
     "output_type": "execute_result"
    }
   ],
   "source": [
    "transformer_model = BertForMaskedLM(config)  # Replace with your model's class\n",
    "transformer_model.load_state_dict(torch.load(transformer_path))\n",
    "transformer_model.to(device)\n",
    "\n",
    "orchid_model = OrchidBERT(config, seq_len, l_conv1d=11)  # Replace with your model's class\n",
    "orchid_model.load_state_dict(torch.load(orchid_path))\n",
    "orchid_model.to(device)"
   ]
  },
  {
   "cell_type": "code",
   "execution_count": 23,
   "id": "f66ba6e1-d509-494d-ac4c-087f05c13610",
   "metadata": {},
   "outputs": [
    {
     "name": "stderr",
     "output_type": "stream",
     "text": [
      "Test: 100%|██████████████████████████████████████████████████████████████████████████████| 5/5 [00:04<00:00,  1.23it/s]\n",
      "Test: 100%|██████████████████████████████████████████████████████████████████████████████| 5/5 [00:01<00:00,  4.92it/s]\n"
     ]
    },
    {
     "name": "stdout",
     "output_type": "stream",
     "text": [
      "Transformer Test Accuracy: 0.1630\n",
      "Orchid Test Accuracy: 0.1663\n"
     ]
    },
    {
     "data": {
      "image/png": "[encoded data removed]",
      "text/plain": [
       "<Figure size 640x480 with 1 Axes>"
      ]
     },
     "metadata": {},
     "output_type": "display_data"
    }
   ],
   "source": [
    "# Test the Model\n",
    "def test(model, test_loader):\n",
    "    model.eval()\n",
    "    correct, total = 0, 0\n",
    "    with torch.no_grad():\n",
    "        #for input_ids, labels, attention_mask in test_loader:\n",
    "        for batch in tqdm(test_loader, desc=f\"Test\"):\n",
    "            # Process each batch\n",
    "            input_ids = batch[0].to(device, non_blocking=True)\n",
    "            labels = batch[1].to(device, non_blocking=True)\n",
    "            attention_mask = batch[2].to(device, non_blocking=True)\n",
    "            logits = model(input_ids,attention_mask=attention_mask).logits\n",
    "            predictions = logits.argmax(dim=-1)\n",
    "            correct += (predictions == labels).sum().item()\n",
    "            total += (labels != -100).sum().item()\n",
    "    return correct / total\n",
    "\n",
    "transformer_test_acc = test(transformer_model, test_loader)\n",
    "orchid_test_acc = test(orchid_model, test_loader)\n",
    "\n",
    "print(f\"Transformer Test Accuracy: {transformer_test_acc:.4f}\")\n",
    "print(f\"Orchid Test Accuracy: {orchid_test_acc:.4f}\")\n",
    "\n",
    "# Plot Training and Validation Accuracy\n",
    "plt.plot(transformer_acc[0], label=\"Transformer Train Accuracy\")\n",
    "plt.plot(transformer_acc[1], label=\"Transformer Val Accuracy\")\n",
    "plt.plot(orchid_acc[0], label=\"Orchid Train Accuracy\")\n",
    "plt.plot(orchid_acc[1], label=\"Orchid Val Accuracy\")\n",
    "plt.legend()\n",
    "plt.show()"
   ]
  },
  {
   "cell_type": "markdown",
   "id": "c764ab3a-966e-4927-9fa2-b06ad06003e2",
   "metadata": {
    "tags": []
   },
   "source": [
    "conv_l_list = []\n",
    "test_acc_list = []\n",
    "for conv_l in range (5,51,2):\n",
    "    model_test = OrchidBERT(config, seq_len, l_conv1d=conv_l).to(device)\n",
    "    train_acc = train(model_test, train_loader, val_loader)\n",
    "    test_acc = test(model_test, test_loader)\n",
    "    \n",
    "    print(f\"conv_l {conv_l}, test acc: {test_acc}\")\n",
    "    conv_l_list.append(conv_l)\n",
    "    test_acc_list.append(test_acc)\n",
    "    \n",
    "plt.plot(conv_l_list,test_acc_list)"
   ]
  },
  {
   "cell_type": "code",
   "execution_count": 24,
   "id": "a40adad4-4c73-4d9f-aa03-2c36b9e8158a",
   "metadata": {
    "tags": []
   },
   "outputs": [],
   "source": [
    "def get_model_size(model):\n",
    "    param_size = 0\n",
    "    for param in model.parameters():\n",
    "        param_size += param.nelement() * param.element_size()\n",
    "    buffer_size = 0\n",
    "    for buffer in model.buffers():\n",
    "        buffer_size += buffer.nelement() * buffer.element_size()\n",
    "\n",
    "    size_all_mb = (param_size + buffer_size) / 1024**2\n",
    "    print('model size: {:.3f}MB'.format(size_all_mb))\n",
    "    return size_all_mb"
   ]
  },
  {
   "cell_type": "code",
   "execution_count": 25,
   "id": "914e593b-5e2c-4d25-bc51-ac9e44e99102",
   "metadata": {
    "tags": []
   },
   "outputs": [
    {
     "name": "stdout",
     "output_type": "stream",
     "text": [
      "model size: 2.627MB\n"
     ]
    },
    {
     "data": {
      "text/plain": [
       "2.6270599365234375"
      ]
     },
     "execution_count": 25,
     "metadata": {},
     "output_type": "execute_result"
    }
   ],
   "source": [
    "get_model_size(transformer_model)"
   ]
  },
  {
   "cell_type": "code",
   "execution_count": 26,
   "id": "59fbc4f5-4d7a-43ef-97dd-f24edc96e2b1",
   "metadata": {
    "tags": []
   },
   "outputs": [
    {
     "name": "stdout",
     "output_type": "stream",
     "text": [
      "model size: 5.633MB\n"
     ]
    },
    {
     "data": {
      "text/plain": [
       "5.6334075927734375"
      ]
     },
     "execution_count": 26,
     "metadata": {},
     "output_type": "execute_result"
    }
   ],
   "source": [
    "get_model_size(orchid_model)"
   ]
  },
  {
   "cell_type": "code",
   "execution_count": null,
   "id": "8a03d807-f7b3-4566-aaab-98609d333a82",
   "metadata": {
    "tags": []
   },
   "outputs": [],
   "source": [
    "for batch in train_loader:\n",
    "    labels = batch[1]\n",
    "    print(labels.shape)\n",
    "    break"
   ]
  },
  {
   "cell_type": "code",
   "execution_count": null,
   "id": "8692d28c-0ca8-40a0-ada1-542c1d6c9dc3",
   "metadata": {
    "tags": []
   },
   "outputs": [],
   "source": [
    "(labels == labels).sum().item()"
   ]
  },
  {
   "cell_type": "code",
   "execution_count": null,
   "id": "cb26d19a-9aa6-4163-acb8-b1be46750003",
   "metadata": {},
   "outputs": [],
   "source": []
  }
 ],
 "metadata": {
  "kernelspec": {
   "display_name": "Python (GPU)",
   "language": "python",
   "name": "gpu_env"
  },
  "language_info": {
   "codemirror_mode": {
    "name": "ipython",
    "version": 3
   },
   "file_extension": ".py",
   "mimetype": "text/x-python",
   "name": "python",
   "nbconvert_exporter": "python",
   "pygments_lexer": "ipython3",
   "version": "3.10.10"
  }
 },
 "nbformat": 4,
 "nbformat_minor": 5
}
