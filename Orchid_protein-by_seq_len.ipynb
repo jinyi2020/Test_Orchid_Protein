{
 "cells": [
  {
   "cell_type": "markdown",
   "id": "983f55dd-4a12-411d-a682-0c4ee9136db5",
   "metadata": {},
   "source": [
    "# Download dataset"
   ]
  },
  {
   "cell_type": "markdown",
   "id": "f73adc83-9112-4a4e-a876-1e6b01b9720f",
   "metadata": {
    "jp-MarkdownHeadingCollapsed": true,
    "tags": []
   },
   "source": [
    "```python\n",
    "import re\n",
    "import requests\n",
    "from requests.adapters import HTTPAdapter, Retry\n",
    "\n",
    "# Regex to extract the next link from the Link header\n",
    "re_next_link = re.compile(r'<(.+)>; rel=\"next\"')\n",
    "\n",
    "# Set up a session with retry logic\n",
    "retries = Retry(total=5, backoff_factor=0.25, status_forcelist=[500, 502, 503, 504])\n",
    "session = requests.Session()\n",
    "session.mount(\"https://\", HTTPAdapter(max_retries=retries))\n",
    "\n",
    "# Function to get the next link from the response headers\n",
    "def get_next_link(headers):\n",
    "    if \"Link\" in headers:\n",
    "        match = re_next_link.match(headers[\"Link\"])\n",
    "        if match:\n",
    "            return match.group(1)\n",
    "\n",
    "# Generator function to fetch batches of data\n",
    "def get_batch(batch_url):\n",
    "    while batch_url:\n",
    "        response = session.get(batch_url)\n",
    "        response.raise_for_status()  # Raise an error for failed requests\n",
    "        yield response  # Yield the response for processing\n",
    "        batch_url = get_next_link(response.headers)  # Get the next link\n",
    "\n",
    "# Main function to download data\n",
    "def download_uniref50_clusters(output_file, base_url, total_records=10000):\n",
    "    progress = 0\n",
    "    with open(output_file, \"w\") as f:\n",
    "        for response in get_batch(base_url):\n",
    "            # Write the response content to the file\n",
    "            f.write(response.text)\n",
    "            \n",
    "            # Count records based on number of sequences\n",
    "            progress += response.text.count(\">\")  # Count FASTA headers\n",
    "            print(f\"Downloaded {progress} / {total_records} clusters\")\n",
    "\n",
    "            # Stop when we reach the desired total\n",
    "            if progress >= total_records:\n",
    "                break\n",
    "    print(f\"Download complete! {progress} clusters saved to {output_file}\")\n",
    "\n",
    "# Define base URL for UniProt REST API\n",
    "base_url = \"https://rest.uniprot.org/uniref/search?query=identity:0.5&format=fasta&size=500\"\n",
    "\n",
    "# Download UniRef50 clusters\n",
    "download_uniref50_clusters(\"uniref50_10000_clusters.fasta\", base_url, total_records=100000)\n",
    "```"
   ]
  },
  {
   "cell_type": "markdown",
   "id": "d2202721-967f-42f8-967e-1c71b4f8b1d5",
   "metadata": {
    "tags": []
   },
   "source": [
    "import re\n",
    "import requests\n",
    "from requests.adapters import HTTPAdapter, Retry\n",
    "\n",
    "# Regex to extract the next link from the Link header\n",
    "re_next_link = re.compile(r'<(.+)>; rel=\"next\"')\n",
    "\n",
    "# Set up a session with retry logic\n",
    "retries = Retry(total=5, backoff_factor=0.25, status_forcelist=[500, 502, 503, 504])\n",
    "session = requests.Session()\n",
    "session.mount(\"https://\", HTTPAdapter(max_retries=retries))\n",
    "\n",
    "# Function to get the next link from the response headers\n",
    "def get_next_link(headers):\n",
    "    if \"Link\" in headers:\n",
    "        match = re_next_link.match(headers[\"Link\"])\n",
    "        if match:\n",
    "            return match.group(1)\n",
    "\n",
    "# Generator function to fetch batches of data\n",
    "def get_batch(batch_url):\n",
    "    while batch_url:\n",
    "        response = session.get(batch_url)\n",
    "        response.raise_for_status()  # Raise an error for failed requests\n",
    "        yield response  # Yield the response for processing\n",
    "        batch_url = get_next_link(response.headers)  # Get the next link\n",
    "\n",
    "# Main function to download data\n",
    "def download_uniref50_clusters(output_file, base_url, total_records=10000):\n",
    "    progress = 0\n",
    "    with open(output_file, \"w\") as f:\n",
    "        for response in get_batch(base_url):\n",
    "            # Write the response content to the file\n",
    "            f.write(response.text)\n",
    "            \n",
    "            # Count records based on number of sequences\n",
    "            progress += response.text.count(\">\")  # Count FASTA headers\n",
    "            print(f\"Downloaded {progress} / {total_records} clusters\")\n",
    "\n",
    "            # Stop when we reach the desired total\n",
    "            if progress >= total_records:\n",
    "                break\n",
    "    print(f\"Download complete! {progress} clusters saved to {output_file}\")\n",
    "\n",
    "# Define base URL for UniProt REST API\n",
    "base_url = \"https://rest.uniprot.org/uniref/search?query=identity:0.5+AND+length:[2000+TO+3000]&format=fasta&size=500\"\n",
    "\n",
    "# Download UniRef50 clusters\n",
    "download_uniref50_clusters(\"uniref50_1000_clusters_2k-3k.fasta\", base_url, total_records=1000)"
   ]
  },
  {
   "cell_type": "markdown",
   "id": "7e559afb-20ee-479a-9fa0-df053eb014c4",
   "metadata": {
    "tags": []
   },
   "source": [
    "# Define base URL for UniProt REST API\n",
    "base_url = \"https://rest.uniprot.org/uniref/search?query=identity:0.5+AND+length:[3000+TO+4000]&format=fasta&size=500\"\n",
    "\n",
    "# Download UniRef50 clusters\n",
    "download_uniref50_clusters(\"uniref50_1000_clusters_3k-4k.fasta\", base_url, total_records=1000)"
   ]
  },
  {
   "cell_type": "markdown",
   "id": "9ad2f34d-79d3-4450-90c8-96a329b0d49c",
   "metadata": {
    "tags": []
   },
   "source": [
    "# Load and Prepare Data"
   ]
  },
  {
   "cell_type": "code",
   "execution_count": 1,
   "id": "af6a0c8d-b544-4ad2-af8f-d7d50e53b3db",
   "metadata": {},
   "outputs": [],
   "source": [
    "def set_seed(seed=42):\n",
    "    import torch\n",
    "    import random\n",
    "    import numpy as np\n",
    "\n",
    "    random.seed(seed)\n",
    "    np.random.seed(seed)\n",
    "    torch.manual_seed(seed)\n",
    "    if torch.cuda.is_available():\n",
    "        torch.cuda.manual_seed(seed)\n",
    "        torch.cuda.manual_seed_all(seed)\n",
    "    torch.backends.cudnn.deterministic = True\n",
    "    torch.backends.cudnn.benchmark = False\n",
    "\n",
    "set_seed(42) "
   ]
  },
  {
   "cell_type": "code",
   "execution_count": 2,
   "id": "708a9928-86bc-477c-8004-d21d24309052",
   "metadata": {
    "tags": []
   },
   "outputs": [],
   "source": [
    "from Bio import SeqIO\n",
    "import random\n",
    "import torch\n",
    "from sklearn.model_selection import train_test_split\n",
    "\n",
    "# Load sequences from a FASTA file\n",
    "def read_fasta(file):\n",
    "    sequences = []\n",
    "    for record in SeqIO.parse(file, \"fasta\"):\n",
    "        sequences.append(str(record.seq))\n",
    "    return sequences\n",
    "\n",
    "# Apply masking to sequences for MLM\n",
    "def mask_sequence(sequence, vocab, mask_token=\"[MASK]\"):\n",
    "    tokens = list(sequence)  # Convert sequence to tokens\n",
    "    input_tokens = tokens[:]\n",
    "    labels = [-100] * len(tokens)  # Default to -100 for non-masked positions\n",
    "\n",
    "    # Mask 15% of tokens\n",
    "    num_masks = max(1, int(len(tokens) * 0.15))\n",
    "    mask_indices = random.sample(range(len(tokens)), num_masks)\n",
    "    for idx in mask_indices:\n",
    "        if random.random() < 0.8:  # 80% replace with [MASK]\n",
    "            input_tokens[idx] = mask_token\n",
    "        elif random.random() < 0.5:  # 10% replace with random amino acid\n",
    "            input_tokens[idx] = random.choice(list(vocab))\n",
    "        labels[idx] = vocab[tokens[idx]]  # Store the original token as the label\n",
    "\n",
    "    return input_tokens, labels\n",
    "\n",
    "# Create a dataset with tokenized and masked sequences\n",
    "def prepare_data(sequences, vocab):\n",
    "    data = []\n",
    "    for seq in sequences:\n",
    "        input_tokens, labels = mask_sequence(seq, vocab)\n",
    "        input_ids = [vocab[tok] for tok in input_tokens]\n",
    "        data.append((input_ids, labels))\n",
    "    return data\n",
    "\n",
    "# Define amino acid vocabulary\n",
    "amino_acids = \"ABCDEFGHIJKLMNOPQRSTUVWXYZ\"  # Standard amino acids\n",
    "vocab = {aa: i for i, aa in enumerate(amino_acids)}\n",
    "vocab[\"[MASK]\"] = len(vocab)  # Add special [MASK] token\n",
    "vocab[\"[PAD]\"] = len(vocab)\n",
    "\n",
    "\n"
   ]
  },
  {
   "cell_type": "markdown",
   "id": "6b7713e2-2ce6-4ae8-91c6-6ee2a4a95040",
   "metadata": {},
   "source": [
    "# Define Transformer and Orchid Models"
   ]
  },
  {
   "cell_type": "markdown",
   "id": "cfc0a30e-3bf5-4464-b032-f357af2a3fd1",
   "metadata": {},
   "source": [
    "## Transformer Model"
   ]
  },
  {
   "cell_type": "code",
   "execution_count": 3,
   "id": "f09e946d-0b3c-417d-9cc9-9aced7984e07",
   "metadata": {
    "tags": []
   },
   "outputs": [],
   "source": [
    "from transformers import BertConfig, BertForMaskedLM\n",
    "\n",
    "# Define a transformer model (BERT)\n"
   ]
  },
  {
   "cell_type": "markdown",
   "id": "a349e7a4-5206-4ce9-b72c-09e968f7ca16",
   "metadata": {},
   "source": [
    "## Orchid (Convolutional) Model"
   ]
  },
  {
   "cell_type": "code",
   "execution_count": 4,
   "id": "37c3f182-7a02-47c2-b8c6-4ff54bb58b27",
   "metadata": {
    "tags": []
   },
   "outputs": [],
   "source": [
    "import torch\n",
    "import torch.nn as nn\n",
    "from torch.fft import rfft, irfft\n",
    "from einops import rearrange\n",
    "from transformers.modeling_outputs import MaskedLMOutput\n",
    "\n",
    "class DiscreteTransform(nn.Module):\n",
    "    def __init__(self, mode=\"fft\", dim=-1):\n",
    "        super().__init__()\n",
    "        self.mode = mode\n",
    "        self.dim = dim\n",
    "\n",
    "    def forward(self, x):\n",
    "        if self.mode == \"fft\":\n",
    "            #print(f\"fft {x.shape}\")\n",
    "            return rfft(x, dim=self.dim)\n",
    "\n",
    "    def inverse(self, x):\n",
    "        if self.mode == \"fft\":\n",
    "            return irfft(x, dim=self.dim)\n",
    "\n",
    "class BertEmbeddings(nn.Module):\n",
    "    def __init__(self, config):\n",
    "        super().__init__()\n",
    "        self.word_embeddings = nn.Embedding(config.vocab_size, config.hidden_size, padding_idx=config.pad_token_id)\n",
    "        self.position_embeddings = nn.Embedding(config.max_position_embeddings, config.hidden_size)\n",
    "        self.token_type_embeddings = nn.Embedding(config.type_vocab_size, config.hidden_size)\n",
    "\n",
    "        self.LayerNorm = nn.LayerNorm(config.hidden_size, eps=config.layer_norm_eps)\n",
    "        self.dropout = nn.Dropout(config.hidden_dropout_prob)\n",
    "\n",
    "    def forward(self, input_ids, token_type_ids=None):\n",
    "        input_shape = input_ids.size()\n",
    "        seq_length = input_shape[1]\n",
    "\n",
    "        position_ids = torch.arange(seq_length, dtype=torch.long, device=input_ids.device)\n",
    "        position_ids = position_ids.unsqueeze(0).expand(input_shape)\n",
    "\n",
    "        if token_type_ids is None:\n",
    "            token_type_ids = torch.zeros(input_shape, dtype=torch.long, device=input_ids.device)\n",
    "\n",
    "        word_embeddings = self.word_embeddings(input_ids)\n",
    "        position_embeddings = self.position_embeddings(position_ids)\n",
    "        token_type_embeddings = self.token_type_embeddings(token_type_ids)\n",
    "\n",
    "        embeddings = word_embeddings + position_embeddings + token_type_embeddings\n",
    "        embeddings = self.LayerNorm(embeddings)\n",
    "        embeddings = self.dropout(embeddings)\n",
    "        return embeddings  \n",
    "'''    \n",
    "class StaticConv(nn.Module):\n",
    "    def __init__(self, d_model, d_filter, seq_len, vocab_size=vocab_size):\n",
    "        super().__init__()\n",
    "        # Create embeddings during initialization\n",
    "        self.embeddings = BertEmbeddings(\n",
    "            BertConfig(\n",
    "                vocab_size=vocab_size,\n",
    "                hidden_size=d_model,\n",
    "                max_position_embeddings=seq_len,\n",
    "                type_vocab_size=1,  # For simplicity, assuming one token type\n",
    "                layer_norm_eps=1e-12,\n",
    "                hidden_dropout_prob=0.1,\n",
    "            )\n",
    "        )\n",
    "\n",
    "        # Generate static positional encodings during initialization\n",
    "        with torch.no_grad():\n",
    "            dummy_input_ids = torch.zeros(seq_len, dtype=torch.long).unsqueeze(0)  # [1, seq_len]\n",
    "            self.static_filters = self.embeddings(dummy_input_ids).squeeze(0)  # [seq_len, d_model]\n",
    "\n",
    "        # Feedforward network for CKConv-style processing\n",
    "        self.ffn = nn.Sequential(\n",
    "            nn.Linear(d_model, d_filter),\n",
    "            nn.ReLU(),\n",
    "            nn.Linear(d_filter, d_model),  # Ensure output size matches d_model\n",
    "        )\n",
    "\n",
    "    def forward(self, batch_size):\n",
    "        # Expand static filters to match batch size\n",
    "        expanded_filters = self.static_filters.unsqueeze(0).expand(batch_size, -1, -1)  # [batch_size, seq_len, d_model]\n",
    "\n",
    "        # Apply feedforward network to static filters\n",
    "        return self.ffn(expanded_filters)\n",
    "\n",
    "class StaticConv(nn.Module):\n",
    "    def __init__(self, d_model, d_filter, seq_len):\n",
    "        super().__init__()\n",
    "        self.ffn = nn.Sequential(\n",
    "            nn.Linear(d_model, d_filter),\n",
    "            nn.ReLU(),\n",
    "            nn.Linear(d_filter, d_model)  # Ensure output size matches d_model\n",
    "        )\n",
    "        self.positional_encoding = nn.Parameter(\n",
    "            torch.randn(seq_len, d_model), requires_grad=True\n",
    "        )  # Learnable positional encoding\n",
    "\n",
    "    def forward(self, batch_size):\n",
    "        # Expand positional encodings to include the batch dimension\n",
    "        batch_positional_encoding = self.positional_encoding.unsqueeze(0).expand(batch_size, -1, -1)\n",
    "        # Apply feedforward network to each position\n",
    "        return self.ffn(batch_positional_encoding)\n",
    "'''\n",
    "\n",
    "class StaticConv(nn.Module):\n",
    "    def __init__(self, d_model, seq_len):\n",
    "        super().__init__()\n",
    "        self.positional_encoding = nn.Parameter(\n",
    "            torch.zeros(seq_len, d_model), requires_grad=False  # Non-learnable zeros\n",
    "        )\n",
    "\n",
    "    def forward(self, batch_size):\n",
    "        # Expand positional encodings to include the batch dimension\n",
    "        batch_positional_encoding = self.positional_encoding.unsqueeze(0).expand(batch_size, -1, -1)\n",
    "        return batch_positional_encoding\n",
    "\n",
    "\n",
    "class Abs(nn.Module):\n",
    "    def forward(self, x):\n",
    "        return torch.abs(x)\n",
    "    \n",
    "class OrchidOperator(nn.Module):\n",
    "    def __init__(self, d, seq_len, d_filter=64, l_conv1d=3, transform_mode=\"fft\"):\n",
    "        super().__init__()\n",
    "        self.d_model = d\n",
    "        self.seq_len = seq_len\n",
    "\n",
    "        self.in_linear = nn.Linear(d, 3 * d)\n",
    "        self.out_linear = nn.Linear(d, d)\n",
    "\n",
    "        width = d * 3\n",
    "        self.short_filter = nn.Conv1d(width , width , kernel_size = l_conv1d , groups =width , padding = l_conv1d // 2)\n",
    "        '''\n",
    "        self.short_filter = nn.Conv1d(\n",
    "            d, d, kernel_size=l_conv1d, groups=d, padding=l_conv1d // 2\n",
    "        )\n",
    "\n",
    "        \n",
    "        self.static_conv = nn.Sequential(\n",
    "            nn.Linear(d, d_filter), nn.ReLU(), nn.Linear(d_filter, d_filter)\n",
    "        )\n",
    "        '''\n",
    "        \n",
    "       \n",
    "        self.static_conv = StaticConv(d, seq_len)\n",
    "        #self.static_conv = StaticConv(d, d_filter, seq_len)\n",
    "\n",
    "        self.conditioning_nn = nn.Sequential(\n",
    "            nn.Conv1d(d, d, kernel_size = l_conv1d, padding=l_conv1d // 2, groups=d),\n",
    "            DiscreteTransform(mode=transform_mode, dim=-1),\n",
    "            Abs(),\n",
    "            nn.Conv1d(d, d, kernel_size = l_conv1d, padding=l_conv1d // 2, groups=d),\n",
    "        )\n",
    "\n",
    "        self.transform = DiscreteTransform(mode=transform_mode, dim=-1)\n",
    "\n",
    "    def forward(self, x):\n",
    "        batch, seq_len, dim = x.size()\n",
    "        orig_x = x\n",
    "\n",
    "        x = self.in_linear(x)\n",
    "        x = nn.functional.gelu(x)\n",
    "        #_, _, v = torch.split(x, dim, dim=-1)\n",
    "        _, _, v = x.split(self.d_model, dim=-1)\n",
    "        #print(v.shape)\n",
    "\n",
    "        h_adapt_f = self.conditioning_nn(rearrange(v, \"b l d -> b d l\"))\n",
    "        \n",
    "        h_static = self.static_conv(batch).transpose(1, 2)\n",
    "\n",
    "        x = rearrange(x, \"b l d -> b d l\")\n",
    "        x = self.short_filter(x)[..., : self.seq_len]\n",
    "        s1, s2, v = x.split(self.d_model, dim=1)\n",
    "\n",
    "        y = v * s1\n",
    "        y = self.adaptive_conv(y, h_static, h_adapt_f)\n",
    "        y = y * s2\n",
    "        y = rearrange(y, \"b d l -> b l d\")\n",
    "        y = self.out_linear(y)\n",
    "        y = nn.functional.gelu(y)\n",
    "\n",
    "        return self.out_linear(y)\n",
    "\n",
    "    def adaptive_conv(self, x, h_static, h_adapt_f):\n",
    "        h_static_f = self.transform(h_static)\n",
    "        x_f = self.transform(x)\n",
    "        \n",
    "        #print(f\"self seq {self.seq_len}, h_static_f {h_static_f.shape}, h_adapt_f {h_adapt_f.shape},  x_f { x_f.shape},  h_static {h_static.shape}, x {x.shape}\")\n",
    "        \n",
    "        y = self.transform.inverse(x_f * (h_static_f + h_adapt_f))\n",
    "        return y[..., : self.seq_len]\n",
    "\n",
    "class OrchidBertLayer(nn.Module):\n",
    "    def __init__(self, config, seq_len, l_conv1d):\n",
    "        super().__init__()\n",
    "        self.seq_len = seq_len\n",
    "        self.orchid = OrchidOperator(\n",
    "            d=config.hidden_size,\n",
    "            seq_len=seq_len,\n",
    "            d_filter=64,  # Adjust as needed\n",
    "            l_conv1d=l_conv1d,   # Adjust as needed\n",
    "            transform_mode=\"fft\"\n",
    "        )\n",
    "        self.intermediate = nn.Linear(config.hidden_size, config.intermediate_size)\n",
    "        self.output = nn.Linear(config.intermediate_size, config.hidden_size)\n",
    "        self.norm1 = nn.LayerNorm(config.hidden_size, eps=1e-12)\n",
    "        self.norm2 = nn.LayerNorm(config.hidden_size, eps=1e-12)\n",
    "        self.dropout1 = nn.Dropout(config.hidden_dropout_prob)\n",
    "        self.dropout2 = nn.Dropout(config.hidden_dropout_prob)\n",
    "\n",
    "        '''\n",
    "    def forward(self, hidden_states, position_embeddings):\n",
    "        # Pass hidden_states and positional embeddings to Orchid layer\n",
    "        orchid_output = self.orchid(hidden_states + position_embeddings)\n",
    "        hidden_states = hidden_states + self.dropout1(orchid_output)\n",
    "        hidden_states = self.norm1(hidden_states)\n",
    "\n",
    "        # Feedforward block\n",
    "        intermediate_output = self.intermediate(hidden_states)\n",
    "        intermediate_output = nn.functional.gelu(intermediate_output)\n",
    "        layer_output = self.output(intermediate_output)\n",
    "        hidden_states = hidden_states + self.dropout2(layer_output)\n",
    "        hidden_states = self.norm2(hidden_states)\n",
    "\n",
    "        return hidden_states\n",
    "        '''\n",
    "    \n",
    "    def forward(self, hidden_states):\n",
    "        # Pass hidden_states and positional embeddings to Orchid layer\n",
    "        orchid_output = self.orchid(hidden_states)\n",
    "        hidden_states = hidden_states + self.dropout1(orchid_output)\n",
    "        hidden_states = self.norm1(hidden_states)\n",
    "\n",
    "        # Feedforward block\n",
    "        intermediate_output = self.intermediate(hidden_states)\n",
    "        intermediate_output = nn.functional.gelu(intermediate_output)\n",
    "        layer_output = self.output(intermediate_output)\n",
    "        hidden_states = hidden_states + self.dropout2(layer_output)\n",
    "        hidden_states = self.norm2(hidden_states)\n",
    "\n",
    "        return hidden_states\n",
    "\n",
    "class OrchidBERT(nn.Module):\n",
    "    def __init__(self, config, seq_len, l_conv1d):\n",
    "        super().__init__()\n",
    "        self.embeddings = BertEmbeddings(config)\n",
    "        self.encoder_layers = nn.ModuleList(\n",
    "            [OrchidBertLayer(config, seq_len, l_conv1d) for _ in range(config.num_hidden_layers)]\n",
    "        )\n",
    "        self.cls_head = nn.Linear(config.hidden_size, config.vocab_size)  # For Masked LM\n",
    "\n",
    "    def forward(self, input_ids, attention_mask=None):\n",
    "        # Compute embeddings\n",
    "        embeddings = self.embeddings(input_ids)\n",
    "        #position_embeddings = self.embeddings.position_embeddings.weight.unsqueeze(0)\n",
    "        hidden_states = embeddings\n",
    "\n",
    "        # Apply attention mask to embeddings if needed\n",
    "        if attention_mask is not None:\n",
    "            attention_mask = attention_mask.unsqueeze(-1)  # Match embedding dimensions\n",
    "            hidden_states = hidden_states * attention_mask\n",
    "        \n",
    "        \n",
    "        # Pass through Orchid-enhanced Transformer layers\n",
    "        for layer in self.encoder_layers:\n",
    "            #hidden_states = layer(hidden_states, position_embeddings)\n",
    "            hidden_states = layer(hidden_states)\n",
    "\n",
    "        logits = self.cls_head(hidden_states)\n",
    "        probs = nn.functional.softmax(logits, dim=-1)\n",
    "        \n",
    "        return MaskedLMOutput(\n",
    "            loss=None,\n",
    "            logits=probs,\n",
    "            hidden_states=None,  # Optionally return hidden states if needed\n",
    "            attentions=None      # Optionally return attentions if needed\n",
    "        )"
   ]
  },
  {
   "cell_type": "markdown",
   "id": "5d535651-854c-4285-9081-f0ab0d8aa030",
   "metadata": {},
   "source": [
    "# Test"
   ]
  },
  {
   "cell_type": "code",
   "execution_count": 6,
   "id": "89c9703d-2f96-440f-b999-7cdcf1d727cb",
   "metadata": {
    "tags": []
   },
   "outputs": [],
   "source": [
    "from torch.utils.data import DataLoader, Dataset\n",
    "from transformers import AdamW\n",
    "from sklearn.metrics import accuracy_score\n",
    "import matplotlib.pyplot as plt\n",
    "from tqdm import tqdm\n",
    "\n",
    "# Custom PyTorch Dataset\n",
    "class ProteinDataset(Dataset):\n",
    "    def __init__(self, data, max_len, pad_token=\"[PAD]\"):\n",
    "        self.data = data\n",
    "        self.max_len = max_len\n",
    "        self.pad_token = pad_token\n",
    "\n",
    "    def __len__(self):\n",
    "        return len(self.data)\n",
    "\n",
    "    def __getitem__(self, idx):\n",
    "        input_ids, labels = self.data[idx]\n",
    "\n",
    "        # Pad input_ids and labels to max_len\n",
    "        padding_length = self.max_len - len(input_ids)\n",
    "        if padding_length > 0:\n",
    "            input_ids = input_ids + [vocab[self.pad_token]] * padding_length\n",
    "            labels = labels + [-100] * padding_length\n",
    "            \n",
    "        attention_mask = [1] * (self.max_len - padding_length) + [0] * padding_length\n",
    "\n",
    "        return (\n",
    "            torch.tensor(input_ids),\n",
    "            torch.tensor(labels),\n",
    "            torch.tensor(attention_mask)\n",
    "        )    \n",
    "\n",
    "# Training Loop\n",
    "def train(model, train_loader, val_loader, save_path, epochs=20, patience=3):\n",
    "    optimizer = AdamW(model.parameters(), lr=5e-4)\n",
    "    criterion = nn.CrossEntropyLoss(ignore_index=-100)  # Ignore non-masked positions\n",
    "\n",
    "    train_acc, val_acc = [], []\n",
    "    best_val_loss = float(\"inf\")\n",
    "    best_val_acc = 0.0\n",
    "    early_stop_counter = 0\n",
    "\n",
    "    for epoch in range(epochs):\n",
    "        # Training\n",
    "        model.train()\n",
    "        total_loss, correct, total = 0, 0, 0\n",
    "        #for input_ids, labels, attention_mask in train_loader:\n",
    "        for batch in tqdm(train_loader, desc=f\"Training Epoch {epoch + 1}\"):\n",
    "            # Process each batch\n",
    "            input_ids = batch[0].long().to(device, non_blocking=True)\n",
    "            labels = batch[1].long().to(device, non_blocking=True)\n",
    "            attention_mask = batch[2].long().to(device, non_blocking=True)\n",
    "            optimizer.zero_grad()\n",
    "            logits = model(input_ids,attention_mask=attention_mask).logits\n",
    "            loss = criterion(logits.view(-1, logits.size(-1)), labels.view(-1))\n",
    "            #loss = criterion(logits.logits.view(-1, logits.logits.size(-1)), labels.view(-1))\n",
    "            loss.backward()\n",
    "            optimizer.step()\n",
    "            total_loss += loss.item()\n",
    "\n",
    "            # Compute accuracy\n",
    "            predictions = logits.argmax(dim=-1)\n",
    "            #print(f\"pred {predictions.shape}, label {labels.shape}\")\n",
    "            correct += (predictions == labels).sum().item()\n",
    "            total += (labels != -100).sum().item()\n",
    "            \n",
    "            #print(predictions)\n",
    "            #print(labels)\n",
    "        train_acc.append(correct / total)\n",
    "\n",
    "        # Validation\n",
    "        model.eval()\n",
    "        val_loss, correct, total = 0, 0, 0\n",
    "        with torch.no_grad():\n",
    "            #for input_ids, labels, attention_mask in val_loader:\n",
    "            for batch in tqdm(val_loader, desc=f\"Val Epoch {epoch + 1}\"):\n",
    "                # Process each batch\n",
    "                input_ids = batch[0].to(device, non_blocking=True)\n",
    "                labels = batch[1].to(device, non_blocking=True)\n",
    "                attention_mask = batch[2].to(device, non_blocking=True)\n",
    "                logits = model(input_ids,attention_mask=attention_mask).logits\n",
    "                loss = criterion(logits.view(-1, logits.size(-1)), labels.view(-1))\n",
    "                val_loss += loss.item()\n",
    "                predictions = logits.argmax(dim=-1)\n",
    "                correct += (predictions == labels).sum().item()\n",
    "                total += (labels != -100).sum().item()\n",
    "                \n",
    "\n",
    "        val_acc.append(correct / total)\n",
    "\n",
    "        print(f\"Epoch {epoch + 1}: Train Acc={train_acc[-1]:.4f}, Val Acc={val_acc[-1]:.4f}\")\n",
    "        \n",
    "        # Save the best model (based on validation accuracy)\n",
    "        if val_acc[-1] > best_val_acc or (val_acc[-1] == best_val_acc and val_loss < best_val_loss):\n",
    "            print(f\"Saving model with Val Acc={val_acc[-1]:.4f}, Val Loss={val_loss:.4f}\")\n",
    "            best_val_acc = val_acc[-1]\n",
    "            #best_val_loss = val_loss\n",
    "            torch.save(model.state_dict(), save_path)\n",
    "            \n",
    "        # Early Stopping\n",
    "        if val_loss < best_val_loss:\n",
    "            best_val_loss = val_loss\n",
    "            early_stop_counter = 0\n",
    "        else:\n",
    "            early_stop_counter += 1\n",
    "            if early_stop_counter >= patience:\n",
    "                print(\"Early stopping...\")\n",
    "                break\n",
    "\n",
    "    return train_acc, val_acc\n",
    "\n"
   ]
  },
  {
   "cell_type": "code",
   "execution_count": 7,
   "id": "f66ba6e1-d509-494d-ac4c-087f05c13610",
   "metadata": {},
   "outputs": [],
   "source": [
    "# Test the Model\n",
    "def test(model, test_loader):\n",
    "    model.eval()\n",
    "    correct, total = 0, 0\n",
    "    with torch.no_grad():\n",
    "        #for input_ids, labels, attention_mask in test_loader:\n",
    "        for batch in tqdm(test_loader, desc=f\"Test\"):\n",
    "            # Process each batch\n",
    "            input_ids = batch[0].to(device, non_blocking=True)\n",
    "            labels = batch[1].to(device, non_blocking=True)\n",
    "            attention_mask = batch[2].to(device, non_blocking=True)\n",
    "            logits = model(input_ids,attention_mask=attention_mask).logits\n",
    "            predictions = logits.argmax(dim=-1)\n",
    "            correct += (predictions == labels).sum().item()\n",
    "            total += (labels != -100).sum().item()\n",
    "    return correct / total\n",
    "\n"
   ]
  },
  {
   "cell_type": "code",
   "execution_count": 8,
   "id": "a40adad4-4c73-4d9f-aa03-2c36b9e8158a",
   "metadata": {
    "tags": []
   },
   "outputs": [],
   "source": [
    "def get_model_size(model):\n",
    "    param_size = 0\n",
    "    for param in model.parameters():\n",
    "        param_size += param.nelement() * param.element_size()\n",
    "    buffer_size = 0\n",
    "    for buffer in model.buffers():\n",
    "        buffer_size += buffer.nelement() * buffer.element_size()\n",
    "\n",
    "    size_all_mb = (param_size + buffer_size) / 1024**2\n",
    "    print('model size: {:.3f}MB'.format(size_all_mb))\n",
    "    return size_all_mb"
   ]
  },
  {
   "cell_type": "code",
   "execution_count": 16,
   "id": "cb26d19a-9aa6-4163-acb8-b1be46750003",
   "metadata": {},
   "outputs": [
    {
     "name": "stderr",
     "output_type": "stream",
     "text": [
      "C:\\Users\\Public\\Documents\\Wondershare\\CreatorTemp\\ipykernel_2228\\3301841325.py:71: FutureWarning: You are using `torch.load` with `weights_only=False` (the current default value), which uses the default pickle module implicitly. It is possible to construct malicious pickle data which will execute arbitrary code during unpickling (See https://github.com/pytorch/pytorch/blob/main/SECURITY.md#untrusted-models for more details). In a future release, the default value for `weights_only` will be flipped to `True`. This limits the functions that could be executed during unpickling. Arbitrary objects will no longer be allowed to be loaded via this mode unless they are explicitly allowlisted by the user via `torch.serialization.add_safe_globals`. We recommend you start setting `weights_only=True` for any use case where you don't have full control of the loaded file. Please open an issue on GitHub for any issues related to this experimental feature.\n",
      "  transformer_model.load_state_dict(torch.load(transformer_path))\n",
      "C:\\Users\\Public\\Documents\\Wondershare\\CreatorTemp\\ipykernel_2228\\3301841325.py:75: FutureWarning: You are using `torch.load` with `weights_only=False` (the current default value), which uses the default pickle module implicitly. It is possible to construct malicious pickle data which will execute arbitrary code during unpickling (See https://github.com/pytorch/pytorch/blob/main/SECURITY.md#untrusted-models for more details). In a future release, the default value for `weights_only` will be flipped to `True`. This limits the functions that could be executed during unpickling. Arbitrary objects will no longer be allowed to be loaded via this mode unless they are explicitly allowlisted by the user via `torch.serialization.add_safe_globals`. We recommend you start setting `weights_only=True` for any use case where you don't have full control of the loaded file. Please open an issue on GitHub for any issues related to this experimental feature.\n",
      "  orchid_model.load_state_dict(torch.load(orchid_path))\n",
      "Test: 100%|██████████████████████████████████████████████████████████████████████████████| 5/5 [00:01<00:00,  2.53it/s]\n",
      "Test: 100%|██████████████████████████████████████████████████████████████████████████████| 5/5 [00:01<00:00,  2.75it/s]\n"
     ]
    },
    {
     "name": "stdout",
     "output_type": "stream",
     "text": [
      "Transformer Test Accuracy at sequence length 1000: 0.1698\n",
      "Orchid Test Accuracy at sequence length 1000: 0.1651\n"
     ]
    },
    {
     "name": "stderr",
     "output_type": "stream",
     "text": [
      "Test: 100%|██████████████████████████████████████████████████████████████████████████████| 5/5 [00:07<00:00,  1.41s/it]\n",
      "Test: 100%|██████████████████████████████████████████████████████████████████████████████| 5/5 [00:02<00:00,  2.20it/s]\n"
     ]
    },
    {
     "name": "stdout",
     "output_type": "stream",
     "text": [
      "Transformer Test Accuracy at sequence length 2000: 0.1815\n",
      "Orchid Test Accuracy at sequence length 2000: 0.1902\n",
      "3000\n"
     ]
    },
    {
     "name": "stderr",
     "output_type": "stream",
     "text": [
      "Training Epoch 1: 100%|████████████████████████████████████████████████████████████████| 22/22 [05:41<00:00, 15.54s/it]\n",
      "Val Epoch 1: 100%|███████████████████████████████████████████████████████████████████████| 5/5 [00:16<00:00,  3.32s/it]\n"
     ]
    },
    {
     "name": "stdout",
     "output_type": "stream",
     "text": [
      "Epoch 1: Train Acc=0.1016, Val Acc=0.1402\n",
      "Saving model with Val Acc=0.1402, Val Loss=14.4660\n"
     ]
    },
    {
     "name": "stderr",
     "output_type": "stream",
     "text": [
      "Training Epoch 2: 100%|████████████████████████████████████████████████████████████████| 22/22 [05:40<00:00, 15.46s/it]\n",
      "Val Epoch 2: 100%|███████████████████████████████████████████████████████████████████████| 5/5 [00:16<00:00,  3.26s/it]\n"
     ]
    },
    {
     "name": "stdout",
     "output_type": "stream",
     "text": [
      "Epoch 2: Train Acc=0.1584, Val Acc=0.1639\n",
      "Saving model with Val Acc=0.1639, Val Loss=13.9369\n"
     ]
    },
    {
     "name": "stderr",
     "output_type": "stream",
     "text": [
      "Training Epoch 3: 100%|████████████████████████████████████████████████████████████████| 22/22 [05:38<00:00, 15.38s/it]\n",
      "Val Epoch 3: 100%|███████████████████████████████████████████████████████████████████████| 5/5 [00:16<00:00,  3.34s/it]\n"
     ]
    },
    {
     "name": "stdout",
     "output_type": "stream",
     "text": [
      "Epoch 3: Train Acc=0.1728, Val Acc=0.1673\n",
      "Saving model with Val Acc=0.1673, Val Loss=13.7510\n"
     ]
    },
    {
     "name": "stderr",
     "output_type": "stream",
     "text": [
      "Training Epoch 4: 100%|████████████████████████████████████████████████████████████████| 22/22 [05:39<00:00, 15.45s/it]\n",
      "Val Epoch 4: 100%|███████████████████████████████████████████████████████████████████████| 5/5 [00:16<00:00,  3.26s/it]\n"
     ]
    },
    {
     "name": "stdout",
     "output_type": "stream",
     "text": [
      "Epoch 4: Train Acc=0.1822, Val Acc=0.1747\n",
      "Saving model with Val Acc=0.1747, Val Loss=13.6390\n"
     ]
    },
    {
     "name": "stderr",
     "output_type": "stream",
     "text": [
      "Training Epoch 5: 100%|████████████████████████████████████████████████████████████████| 22/22 [05:42<00:00, 15.56s/it]\n",
      "Val Epoch 5: 100%|███████████████████████████████████████████████████████████████████████| 5/5 [00:16<00:00,  3.30s/it]\n"
     ]
    },
    {
     "name": "stdout",
     "output_type": "stream",
     "text": [
      "Epoch 5: Train Acc=0.1982, Val Acc=0.1776\n",
      "Saving model with Val Acc=0.1776, Val Loss=13.6102\n"
     ]
    },
    {
     "name": "stderr",
     "output_type": "stream",
     "text": [
      "Training Epoch 6: 100%|████████████████████████████████████████████████████████████████| 22/22 [05:38<00:00, 15.40s/it]\n",
      "Val Epoch 6: 100%|███████████████████████████████████████████████████████████████████████| 5/5 [00:16<00:00,  3.27s/it]\n"
     ]
    },
    {
     "name": "stdout",
     "output_type": "stream",
     "text": [
      "Epoch 6: Train Acc=0.2051, Val Acc=0.1801\n",
      "Saving model with Val Acc=0.1801, Val Loss=13.6046\n"
     ]
    },
    {
     "name": "stderr",
     "output_type": "stream",
     "text": [
      "Training Epoch 7: 100%|████████████████████████████████████████████████████████████████| 22/22 [05:39<00:00, 15.44s/it]\n",
      "Val Epoch 7: 100%|███████████████████████████████████████████████████████████████████████| 5/5 [00:16<00:00,  3.29s/it]\n"
     ]
    },
    {
     "name": "stdout",
     "output_type": "stream",
     "text": [
      "Epoch 7: Train Acc=0.2081, Val Acc=0.1822\n",
      "Saving model with Val Acc=0.1822, Val Loss=13.6203\n"
     ]
    },
    {
     "name": "stderr",
     "output_type": "stream",
     "text": [
      "Training Epoch 8: 100%|████████████████████████████████████████████████████████████████| 22/22 [05:39<00:00, 15.45s/it]\n",
      "Val Epoch 8: 100%|███████████████████████████████████████████████████████████████████████| 5/5 [00:16<00:00,  3.30s/it]\n"
     ]
    },
    {
     "name": "stdout",
     "output_type": "stream",
     "text": [
      "Epoch 8: Train Acc=0.2114, Val Acc=0.1812\n"
     ]
    },
    {
     "name": "stderr",
     "output_type": "stream",
     "text": [
      "Training Epoch 9: 100%|████████████████████████████████████████████████████████████████| 22/22 [05:39<00:00, 15.43s/it]\n",
      "Val Epoch 9: 100%|███████████████████████████████████████████████████████████████████████| 5/5 [00:16<00:00,  3.29s/it]\n"
     ]
    },
    {
     "name": "stdout",
     "output_type": "stream",
     "text": [
      "Epoch 9: Train Acc=0.2145, Val Acc=0.1812\n",
      "Early stopping...\n"
     ]
    },
    {
     "name": "stderr",
     "output_type": "stream",
     "text": [
      "Training Epoch 1: 100%|████████████████████████████████████████████████████████████████| 22/22 [06:33<00:00, 17.88s/it]\n",
      "Val Epoch 1: 100%|███████████████████████████████████████████████████████████████████████| 5/5 [00:04<00:00,  1.01it/s]\n"
     ]
    },
    {
     "name": "stdout",
     "output_type": "stream",
     "text": [
      "Epoch 1: Train Acc=0.0763, Val Acc=0.0866\n",
      "Saving model with Val Acc=0.0866, Val Loss=16.4489\n"
     ]
    },
    {
     "name": "stderr",
     "output_type": "stream",
     "text": [
      "Training Epoch 2: 100%|████████████████████████████████████████████████████████████████| 22/22 [06:31<00:00, 17.81s/it]\n",
      "Val Epoch 2: 100%|███████████████████████████████████████████████████████████████████████| 5/5 [00:05<00:00,  1.03s/it]\n"
     ]
    },
    {
     "name": "stdout",
     "output_type": "stream",
     "text": [
      "Epoch 2: Train Acc=0.0954, Val Acc=0.0975\n",
      "Saving model with Val Acc=0.0975, Val Loss=16.4088\n"
     ]
    },
    {
     "name": "stderr",
     "output_type": "stream",
     "text": [
      "Training Epoch 3: 100%|████████████████████████████████████████████████████████████████| 22/22 [06:28<00:00, 17.68s/it]\n",
      "Val Epoch 3: 100%|███████████████████████████████████████████████████████████████████████| 5/5 [00:05<00:00,  1.02s/it]\n"
     ]
    },
    {
     "name": "stdout",
     "output_type": "stream",
     "text": [
      "Epoch 3: Train Acc=0.1055, Val Acc=0.1153\n",
      "Saving model with Val Acc=0.1153, Val Loss=16.3523\n"
     ]
    },
    {
     "name": "stderr",
     "output_type": "stream",
     "text": [
      "Training Epoch 4: 100%|████████████████████████████████████████████████████████████████| 22/22 [06:28<00:00, 17.66s/it]\n",
      "Val Epoch 4: 100%|███████████████████████████████████████████████████████████████████████| 5/5 [00:05<00:00,  1.02s/it]\n"
     ]
    },
    {
     "name": "stdout",
     "output_type": "stream",
     "text": [
      "Epoch 4: Train Acc=0.1226, Val Acc=0.1292\n",
      "Saving model with Val Acc=0.1292, Val Loss=16.2871\n"
     ]
    },
    {
     "name": "stderr",
     "output_type": "stream",
     "text": [
      "Training Epoch 5: 100%|████████████████████████████████████████████████████████████████| 22/22 [06:29<00:00, 17.72s/it]\n",
      "Val Epoch 5: 100%|███████████████████████████████████████████████████████████████████████| 5/5 [00:05<00:00,  1.02s/it]\n"
     ]
    },
    {
     "name": "stdout",
     "output_type": "stream",
     "text": [
      "Epoch 5: Train Acc=0.1294, Val Acc=0.1363\n",
      "Saving model with Val Acc=0.1363, Val Loss=16.2584\n"
     ]
    },
    {
     "name": "stderr",
     "output_type": "stream",
     "text": [
      "Training Epoch 6: 100%|████████████████████████████████████████████████████████████████| 22/22 [06:27<00:00, 17.64s/it]\n",
      "Val Epoch 6: 100%|███████████████████████████████████████████████████████████████████████| 5/5 [00:05<00:00,  1.02s/it]\n"
     ]
    },
    {
     "name": "stdout",
     "output_type": "stream",
     "text": [
      "Epoch 6: Train Acc=0.1412, Val Acc=0.1448\n",
      "Saving model with Val Acc=0.1448, Val Loss=16.2097\n"
     ]
    },
    {
     "name": "stderr",
     "output_type": "stream",
     "text": [
      "Training Epoch 7: 100%|████████████████████████████████████████████████████████████████| 22/22 [06:28<00:00, 17.65s/it]\n",
      "Val Epoch 7: 100%|███████████████████████████████████████████████████████████████████████| 5/5 [00:05<00:00,  1.02s/it]\n"
     ]
    },
    {
     "name": "stdout",
     "output_type": "stream",
     "text": [
      "Epoch 7: Train Acc=0.1529, Val Acc=0.1574\n",
      "Saving model with Val Acc=0.1574, Val Loss=16.1545\n"
     ]
    },
    {
     "name": "stderr",
     "output_type": "stream",
     "text": [
      "Training Epoch 8: 100%|████████████████████████████████████████████████████████████████| 22/22 [06:29<00:00, 17.71s/it]\n",
      "Val Epoch 8: 100%|███████████████████████████████████████████████████████████████████████| 5/5 [00:05<00:00,  1.02s/it]\n"
     ]
    },
    {
     "name": "stdout",
     "output_type": "stream",
     "text": [
      "Epoch 8: Train Acc=0.1639, Val Acc=0.1651\n",
      "Saving model with Val Acc=0.1651, Val Loss=16.1194\n"
     ]
    },
    {
     "name": "stderr",
     "output_type": "stream",
     "text": [
      "Training Epoch 9: 100%|████████████████████████████████████████████████████████████████| 22/22 [06:30<00:00, 17.73s/it]\n",
      "Val Epoch 9: 100%|███████████████████████████████████████████████████████████████████████| 5/5 [00:05<00:00,  1.02s/it]\n"
     ]
    },
    {
     "name": "stdout",
     "output_type": "stream",
     "text": [
      "Epoch 9: Train Acc=0.1758, Val Acc=0.1740\n",
      "Saving model with Val Acc=0.1740, Val Loss=16.0753\n"
     ]
    },
    {
     "name": "stderr",
     "output_type": "stream",
     "text": [
      "Training Epoch 10: 100%|███████████████████████████████████████████████████████████████| 22/22 [06:30<00:00, 17.75s/it]\n",
      "Val Epoch 10: 100%|██████████████████████████████████████████████████████████████████████| 5/5 [00:05<00:00,  1.03s/it]\n"
     ]
    },
    {
     "name": "stdout",
     "output_type": "stream",
     "text": [
      "Epoch 10: Train Acc=0.1785, Val Acc=0.1725\n"
     ]
    },
    {
     "name": "stderr",
     "output_type": "stream",
     "text": [
      "Training Epoch 11: 100%|███████████████████████████████████████████████████████████████| 22/22 [06:30<00:00, 17.76s/it]\n",
      "Val Epoch 11: 100%|██████████████████████████████████████████████████████████████████████| 5/5 [00:05<00:00,  1.02s/it]\n"
     ]
    },
    {
     "name": "stdout",
     "output_type": "stream",
     "text": [
      "Epoch 11: Train Acc=0.1851, Val Acc=0.1815\n",
      "Saving model with Val Acc=0.1815, Val Loss=16.0411\n"
     ]
    },
    {
     "name": "stderr",
     "output_type": "stream",
     "text": [
      "Training Epoch 12: 100%|███████████████████████████████████████████████████████████████| 22/22 [06:30<00:00, 17.73s/it]\n",
      "Val Epoch 12: 100%|██████████████████████████████████████████████████████████████████████| 5/5 [00:05<00:00,  1.03s/it]\n"
     ]
    },
    {
     "name": "stdout",
     "output_type": "stream",
     "text": [
      "Epoch 12: Train Acc=0.1929, Val Acc=0.1860\n",
      "Saving model with Val Acc=0.1860, Val Loss=16.0167\n"
     ]
    },
    {
     "name": "stderr",
     "output_type": "stream",
     "text": [
      "Training Epoch 13: 100%|███████████████████████████████████████████████████████████████| 22/22 [06:30<00:00, 17.73s/it]\n",
      "Val Epoch 13: 100%|██████████████████████████████████████████████████████████████████████| 5/5 [00:05<00:00,  1.02s/it]\n"
     ]
    },
    {
     "name": "stdout",
     "output_type": "stream",
     "text": [
      "Epoch 13: Train Acc=0.1974, Val Acc=0.1863\n",
      "Saving model with Val Acc=0.1863, Val Loss=16.0136\n"
     ]
    },
    {
     "name": "stderr",
     "output_type": "stream",
     "text": [
      "Training Epoch 14: 100%|███████████████████████████████████████████████████████████████| 22/22 [06:30<00:00, 17.74s/it]\n",
      "Val Epoch 14: 100%|██████████████████████████████████████████████████████████████████████| 5/5 [00:05<00:00,  1.02s/it]\n"
     ]
    },
    {
     "name": "stdout",
     "output_type": "stream",
     "text": [
      "Epoch 14: Train Acc=0.1998, Val Acc=0.1853\n"
     ]
    },
    {
     "name": "stderr",
     "output_type": "stream",
     "text": [
      "Training Epoch 15: 100%|███████████████████████████████████████████████████████████████| 22/22 [06:30<00:00, 17.77s/it]\n",
      "Val Epoch 15: 100%|██████████████████████████████████████████████████████████████████████| 5/5 [00:05<00:00,  1.02s/it]\n"
     ]
    },
    {
     "name": "stdout",
     "output_type": "stream",
     "text": [
      "Epoch 15: Train Acc=0.2021, Val Acc=0.1860\n"
     ]
    },
    {
     "name": "stderr",
     "output_type": "stream",
     "text": [
      "Training Epoch 16: 100%|███████████████████████████████████████████████████████████████| 22/22 [06:30<00:00, 17.74s/it]\n",
      "Val Epoch 16: 100%|██████████████████████████████████████████████████████████████████████| 5/5 [00:05<00:00,  1.02s/it]\n"
     ]
    },
    {
     "name": "stdout",
     "output_type": "stream",
     "text": [
      "Epoch 16: Train Acc=0.2050, Val Acc=0.1859\n",
      "Early stopping...\n"
     ]
    },
    {
     "name": "stderr",
     "output_type": "stream",
     "text": [
      "Test: 100%|██████████████████████████████████████████████████████████████████████████████| 5/5 [00:16<00:00,  3.31s/it]\n",
      "Test: 100%|██████████████████████████████████████████████████████████████████████████████| 5/5 [00:05<00:00,  1.04s/it]\n"
     ]
    },
    {
     "name": "stdout",
     "output_type": "stream",
     "text": [
      "Transformer Test Accuracy at sequence length 3000: 0.1794\n",
      "Orchid Test Accuracy at sequence length 3000: 0.1862\n",
      "4000\n"
     ]
    },
    {
     "name": "stderr",
     "output_type": "stream",
     "text": [
      "Training Epoch 1: 100%|████████████████████████████████████████████████████████████████| 22/22 [09:37<00:00, 26.23s/it]\n",
      "Val Epoch 1: 100%|███████████████████████████████████████████████████████████████████████| 5/5 [00:31<00:00,  6.24s/it]\n"
     ]
    },
    {
     "name": "stdout",
     "output_type": "stream",
     "text": [
      "Epoch 1: Train Acc=0.0974, Val Acc=0.1263\n",
      "Saving model with Val Acc=0.1263, Val Loss=14.4726\n"
     ]
    },
    {
     "name": "stderr",
     "output_type": "stream",
     "text": [
      "Training Epoch 2: 100%|████████████████████████████████████████████████████████████████| 22/22 [09:35<00:00, 26.18s/it]\n",
      "Val Epoch 2: 100%|███████████████████████████████████████████████████████████████████████| 5/5 [00:31<00:00,  6.23s/it]\n"
     ]
    },
    {
     "name": "stdout",
     "output_type": "stream",
     "text": [
      "Epoch 2: Train Acc=0.1538, Val Acc=0.1628\n",
      "Saving model with Val Acc=0.1628, Val Loss=13.9264\n"
     ]
    },
    {
     "name": "stderr",
     "output_type": "stream",
     "text": [
      "Training Epoch 3: 100%|████████████████████████████████████████████████████████████████| 22/22 [09:37<00:00, 26.23s/it]\n",
      "Val Epoch 3: 100%|███████████████████████████████████████████████████████████████████████| 5/5 [00:31<00:00,  6.25s/it]\n"
     ]
    },
    {
     "name": "stdout",
     "output_type": "stream",
     "text": [
      "Epoch 3: Train Acc=0.1710, Val Acc=0.1662\n",
      "Saving model with Val Acc=0.1662, Val Loss=13.6555\n"
     ]
    },
    {
     "name": "stderr",
     "output_type": "stream",
     "text": [
      "Training Epoch 4: 100%|████████████████████████████████████████████████████████████████| 22/22 [09:36<00:00, 26.18s/it]\n",
      "Val Epoch 4: 100%|███████████████████████████████████████████████████████████████████████| 5/5 [00:31<00:00,  6.28s/it]\n"
     ]
    },
    {
     "name": "stdout",
     "output_type": "stream",
     "text": [
      "Epoch 4: Train Acc=0.1839, Val Acc=0.1778\n",
      "Saving model with Val Acc=0.1778, Val Loss=13.5477\n"
     ]
    },
    {
     "name": "stderr",
     "output_type": "stream",
     "text": [
      "Training Epoch 5: 100%|████████████████████████████████████████████████████████████████| 22/22 [09:36<00:00, 26.20s/it]\n",
      "Val Epoch 5: 100%|███████████████████████████████████████████████████████████████████████| 5/5 [00:31<00:00,  6.24s/it]\n"
     ]
    },
    {
     "name": "stdout",
     "output_type": "stream",
     "text": [
      "Epoch 5: Train Acc=0.2020, Val Acc=0.1878\n",
      "Saving model with Val Acc=0.1878, Val Loss=13.4511\n"
     ]
    },
    {
     "name": "stderr",
     "output_type": "stream",
     "text": [
      "Training Epoch 6: 100%|████████████████████████████████████████████████████████████████| 22/22 [09:35<00:00, 26.18s/it]\n",
      "Val Epoch 6: 100%|███████████████████████████████████████████████████████████████████████| 5/5 [00:31<00:00,  6.23s/it]\n"
     ]
    },
    {
     "name": "stdout",
     "output_type": "stream",
     "text": [
      "Epoch 6: Train Acc=0.2106, Val Acc=0.1895\n",
      "Saving model with Val Acc=0.1895, Val Loss=13.4541\n"
     ]
    },
    {
     "name": "stderr",
     "output_type": "stream",
     "text": [
      "Training Epoch 7: 100%|████████████████████████████████████████████████████████████████| 22/22 [09:36<00:00, 26.19s/it]\n",
      "Val Epoch 7: 100%|███████████████████████████████████████████████████████████████████████| 5/5 [00:31<00:00,  6.23s/it]\n"
     ]
    },
    {
     "name": "stdout",
     "output_type": "stream",
     "text": [
      "Epoch 7: Train Acc=0.2152, Val Acc=0.1903\n",
      "Saving model with Val Acc=0.1903, Val Loss=13.4329\n"
     ]
    },
    {
     "name": "stderr",
     "output_type": "stream",
     "text": [
      "Training Epoch 8: 100%|████████████████████████████████████████████████████████████████| 22/22 [09:39<00:00, 26.32s/it]\n",
      "Val Epoch 8: 100%|███████████████████████████████████████████████████████████████████████| 5/5 [00:31<00:00,  6.25s/it]\n"
     ]
    },
    {
     "name": "stdout",
     "output_type": "stream",
     "text": [
      "Epoch 8: Train Acc=0.2169, Val Acc=0.1884\n"
     ]
    },
    {
     "name": "stderr",
     "output_type": "stream",
     "text": [
      "Training Epoch 9: 100%|████████████████████████████████████████████████████████████████| 22/22 [09:36<00:00, 26.20s/it]\n",
      "Val Epoch 9: 100%|███████████████████████████████████████████████████████████████████████| 5/5 [00:31<00:00,  6.23s/it]\n"
     ]
    },
    {
     "name": "stdout",
     "output_type": "stream",
     "text": [
      "Epoch 9: Train Acc=0.2190, Val Acc=0.1867\n"
     ]
    },
    {
     "name": "stderr",
     "output_type": "stream",
     "text": [
      "Training Epoch 10: 100%|███████████████████████████████████████████████████████████████| 22/22 [09:35<00:00, 26.18s/it]\n",
      "Val Epoch 10: 100%|██████████████████████████████████████████████████████████████████████| 5/5 [00:31<00:00,  6.22s/it]\n"
     ]
    },
    {
     "name": "stdout",
     "output_type": "stream",
     "text": [
      "Epoch 10: Train Acc=0.2211, Val Acc=0.1891\n",
      "Early stopping...\n"
     ]
    },
    {
     "name": "stderr",
     "output_type": "stream",
     "text": [
      "Training Epoch 1: 100%|████████████████████████████████████████████████████████████████| 22/22 [09:31<00:00, 25.97s/it]\n",
      "Val Epoch 1: 100%|███████████████████████████████████████████████████████████████████████| 5/5 [00:13<00:00,  2.63s/it]\n"
     ]
    },
    {
     "name": "stdout",
     "output_type": "stream",
     "text": [
      "Epoch 1: Train Acc=0.0864, Val Acc=0.0934\n",
      "Saving model with Val Acc=0.0934, Val Loss=16.4439\n"
     ]
    },
    {
     "name": "stderr",
     "output_type": "stream",
     "text": [
      "Training Epoch 2: 100%|████████████████████████████████████████████████████████████████| 22/22 [09:31<00:00, 25.98s/it]\n",
      "Val Epoch 2: 100%|███████████████████████████████████████████████████████████████████████| 5/5 [00:13<00:00,  2.62s/it]\n"
     ]
    },
    {
     "name": "stdout",
     "output_type": "stream",
     "text": [
      "Epoch 2: Train Acc=0.0980, Val Acc=0.1040\n",
      "Saving model with Val Acc=0.1040, Val Loss=16.4189\n"
     ]
    },
    {
     "name": "stderr",
     "output_type": "stream",
     "text": [
      "Training Epoch 3: 100%|████████████████████████████████████████████████████████████████| 22/22 [09:30<00:00, 25.94s/it]\n",
      "Val Epoch 3: 100%|███████████████████████████████████████████████████████████████████████| 5/5 [00:13<00:00,  2.62s/it]\n"
     ]
    },
    {
     "name": "stdout",
     "output_type": "stream",
     "text": [
      "Epoch 3: Train Acc=0.1068, Val Acc=0.1144\n",
      "Saving model with Val Acc=0.1144, Val Loss=16.3666\n"
     ]
    },
    {
     "name": "stderr",
     "output_type": "stream",
     "text": [
      "Training Epoch 4: 100%|████████████████████████████████████████████████████████████████| 22/22 [09:30<00:00, 25.92s/it]\n",
      "Val Epoch 4: 100%|███████████████████████████████████████████████████████████████████████| 5/5 [00:13<00:00,  2.62s/it]\n"
     ]
    },
    {
     "name": "stdout",
     "output_type": "stream",
     "text": [
      "Epoch 4: Train Acc=0.1213, Val Acc=0.1296\n",
      "Saving model with Val Acc=0.1296, Val Loss=16.2953\n"
     ]
    },
    {
     "name": "stderr",
     "output_type": "stream",
     "text": [
      "Training Epoch 5: 100%|████████████████████████████████████████████████████████████████| 22/22 [09:30<00:00, 25.93s/it]\n",
      "Val Epoch 5: 100%|███████████████████████████████████████████████████████████████████████| 5/5 [00:13<00:00,  2.62s/it]\n"
     ]
    },
    {
     "name": "stdout",
     "output_type": "stream",
     "text": [
      "Epoch 5: Train Acc=0.1324, Val Acc=0.1327\n",
      "Saving model with Val Acc=0.1327, Val Loss=16.2638\n"
     ]
    },
    {
     "name": "stderr",
     "output_type": "stream",
     "text": [
      "Training Epoch 6: 100%|████████████████████████████████████████████████████████████████| 22/22 [09:30<00:00, 25.92s/it]\n",
      "Val Epoch 6: 100%|███████████████████████████████████████████████████████████████████████| 5/5 [00:13<00:00,  2.62s/it]\n"
     ]
    },
    {
     "name": "stdout",
     "output_type": "stream",
     "text": [
      "Epoch 6: Train Acc=0.1376, Val Acc=0.1512\n",
      "Saving model with Val Acc=0.1512, Val Loss=16.2053\n"
     ]
    },
    {
     "name": "stderr",
     "output_type": "stream",
     "text": [
      "Training Epoch 7: 100%|████████████████████████████████████████████████████████████████| 22/22 [09:29<00:00, 25.91s/it]\n",
      "Val Epoch 7: 100%|███████████████████████████████████████████████████████████████████████| 5/5 [00:13<00:00,  2.62s/it]\n"
     ]
    },
    {
     "name": "stdout",
     "output_type": "stream",
     "text": [
      "Epoch 7: Train Acc=0.1529, Val Acc=0.1523\n",
      "Saving model with Val Acc=0.1523, Val Loss=16.1723\n"
     ]
    },
    {
     "name": "stderr",
     "output_type": "stream",
     "text": [
      "Training Epoch 8: 100%|████████████████████████████████████████████████████████████████| 22/22 [09:30<00:00, 25.91s/it]\n",
      "Val Epoch 8: 100%|███████████████████████████████████████████████████████████████████████| 5/5 [00:13<00:00,  2.62s/it]\n"
     ]
    },
    {
     "name": "stdout",
     "output_type": "stream",
     "text": [
      "Epoch 8: Train Acc=0.1561, Val Acc=0.1555\n",
      "Saving model with Val Acc=0.1555, Val Loss=16.1585\n"
     ]
    },
    {
     "name": "stderr",
     "output_type": "stream",
     "text": [
      "Training Epoch 9: 100%|████████████████████████████████████████████████████████████████| 22/22 [09:30<00:00, 25.93s/it]\n",
      "Val Epoch 9: 100%|███████████████████████████████████████████████████████████████████████| 5/5 [00:13<00:00,  2.62s/it]\n"
     ]
    },
    {
     "name": "stdout",
     "output_type": "stream",
     "text": [
      "Epoch 9: Train Acc=0.1677, Val Acc=0.1656\n",
      "Saving model with Val Acc=0.1656, Val Loss=16.1080\n"
     ]
    },
    {
     "name": "stderr",
     "output_type": "stream",
     "text": [
      "Training Epoch 10: 100%|███████████████████████████████████████████████████████████████| 22/22 [09:31<00:00, 25.97s/it]\n",
      "Val Epoch 10: 100%|██████████████████████████████████████████████████████████████████████| 5/5 [00:13<00:00,  2.64s/it]\n"
     ]
    },
    {
     "name": "stdout",
     "output_type": "stream",
     "text": [
      "Epoch 10: Train Acc=0.1770, Val Acc=0.1749\n",
      "Saving model with Val Acc=0.1749, Val Loss=16.0666\n"
     ]
    },
    {
     "name": "stderr",
     "output_type": "stream",
     "text": [
      "Training Epoch 11: 100%|███████████████████████████████████████████████████████████████| 22/22 [09:28<00:00, 25.86s/it]\n",
      "Val Epoch 11: 100%|██████████████████████████████████████████████████████████████████████| 5/5 [00:13<00:00,  2.62s/it]\n"
     ]
    },
    {
     "name": "stdout",
     "output_type": "stream",
     "text": [
      "Epoch 11: Train Acc=0.1843, Val Acc=0.1750\n",
      "Saving model with Val Acc=0.1750, Val Loss=16.0570\n"
     ]
    },
    {
     "name": "stderr",
     "output_type": "stream",
     "text": [
      "Training Epoch 12: 100%|███████████████████████████████████████████████████████████████| 22/22 [09:27<00:00, 25.78s/it]\n",
      "Val Epoch 12: 100%|██████████████████████████████████████████████████████████████████████| 5/5 [00:13<00:00,  2.61s/it]\n"
     ]
    },
    {
     "name": "stdout",
     "output_type": "stream",
     "text": [
      "Epoch 12: Train Acc=0.1888, Val Acc=0.1802\n",
      "Saving model with Val Acc=0.1802, Val Loss=16.0390\n"
     ]
    },
    {
     "name": "stderr",
     "output_type": "stream",
     "text": [
      "Training Epoch 13: 100%|███████████████████████████████████████████████████████████████| 22/22 [09:25<00:00, 25.71s/it]\n",
      "Val Epoch 13: 100%|██████████████████████████████████████████████████████████████████████| 5/5 [00:13<00:00,  2.62s/it]\n"
     ]
    },
    {
     "name": "stdout",
     "output_type": "stream",
     "text": [
      "Epoch 13: Train Acc=0.1940, Val Acc=0.1884\n",
      "Saving model with Val Acc=0.1884, Val Loss=16.0012\n"
     ]
    },
    {
     "name": "stderr",
     "output_type": "stream",
     "text": [
      "Training Epoch 14: 100%|███████████████████████████████████████████████████████████████| 22/22 [09:25<00:00, 25.71s/it]\n",
      "Val Epoch 14: 100%|██████████████████████████████████████████████████████████████████████| 5/5 [00:13<00:00,  2.62s/it]\n"
     ]
    },
    {
     "name": "stdout",
     "output_type": "stream",
     "text": [
      "Epoch 14: Train Acc=0.1992, Val Acc=0.1843\n"
     ]
    },
    {
     "name": "stderr",
     "output_type": "stream",
     "text": [
      "Training Epoch 15: 100%|███████████████████████████████████████████████████████████████| 22/22 [09:25<00:00, 25.72s/it]\n",
      "Val Epoch 15: 100%|██████████████████████████████████████████████████████████████████████| 5/5 [00:13<00:00,  2.62s/it]\n"
     ]
    },
    {
     "name": "stdout",
     "output_type": "stream",
     "text": [
      "Epoch 15: Train Acc=0.2031, Val Acc=0.1922\n",
      "Saving model with Val Acc=0.1922, Val Loss=15.9832\n"
     ]
    },
    {
     "name": "stderr",
     "output_type": "stream",
     "text": [
      "Training Epoch 16: 100%|███████████████████████████████████████████████████████████████| 22/22 [09:25<00:00, 25.73s/it]\n",
      "Val Epoch 16: 100%|██████████████████████████████████████████████████████████████████████| 5/5 [00:13<00:00,  2.62s/it]\n"
     ]
    },
    {
     "name": "stdout",
     "output_type": "stream",
     "text": [
      "Epoch 16: Train Acc=0.2097, Val Acc=0.1948\n",
      "Saving model with Val Acc=0.1948, Val Loss=15.9685\n"
     ]
    },
    {
     "name": "stderr",
     "output_type": "stream",
     "text": [
      "Training Epoch 17: 100%|███████████████████████████████████████████████████████████████| 22/22 [09:25<00:00, 25.72s/it]\n",
      "Val Epoch 17: 100%|██████████████████████████████████████████████████████████████████████| 5/5 [00:13<00:00,  2.62s/it]\n"
     ]
    },
    {
     "name": "stdout",
     "output_type": "stream",
     "text": [
      "Epoch 17: Train Acc=0.2131, Val Acc=0.1954\n",
      "Saving model with Val Acc=0.1954, Val Loss=15.9664\n"
     ]
    },
    {
     "name": "stderr",
     "output_type": "stream",
     "text": [
      "Training Epoch 18: 100%|███████████████████████████████████████████████████████████████| 22/22 [09:25<00:00, 25.71s/it]\n",
      "Val Epoch 18: 100%|██████████████████████████████████████████████████████████████████████| 5/5 [00:13<00:00,  2.62s/it]\n"
     ]
    },
    {
     "name": "stdout",
     "output_type": "stream",
     "text": [
      "Epoch 18: Train Acc=0.2145, Val Acc=0.1948\n"
     ]
    },
    {
     "name": "stderr",
     "output_type": "stream",
     "text": [
      "Training Epoch 19: 100%|███████████████████████████████████████████████████████████████| 22/22 [09:25<00:00, 25.71s/it]\n",
      "Val Epoch 19: 100%|██████████████████████████████████████████████████████████████████████| 5/5 [00:13<00:00,  2.61s/it]\n"
     ]
    },
    {
     "name": "stdout",
     "output_type": "stream",
     "text": [
      "Epoch 19: Train Acc=0.2166, Val Acc=0.1942\n"
     ]
    },
    {
     "name": "stderr",
     "output_type": "stream",
     "text": [
      "Training Epoch 20: 100%|███████████████████████████████████████████████████████████████| 22/22 [09:25<00:00, 25.72s/it]\n",
      "Val Epoch 20: 100%|██████████████████████████████████████████████████████████████████████| 5/5 [00:13<00:00,  2.61s/it]\n"
     ]
    },
    {
     "name": "stdout",
     "output_type": "stream",
     "text": [
      "Epoch 20: Train Acc=0.2192, Val Acc=0.1928\n",
      "Early stopping...\n"
     ]
    },
    {
     "name": "stderr",
     "output_type": "stream",
     "text": [
      "Test: 100%|██████████████████████████████████████████████████████████████████████████████| 5/5 [00:26<00:00,  5.40s/it]\n",
      "Test: 100%|██████████████████████████████████████████████████████████████████████████████| 5/5 [00:16<00:00,  3.29s/it]\n"
     ]
    },
    {
     "name": "stdout",
     "output_type": "stream",
     "text": [
      "Transformer Test Accuracy at sequence length 4000: 0.1876\n",
      "Orchid Test Accuracy at sequence length 4000: 0.1910\n"
     ]
    },
    {
     "data": {
      "image/png": "[encoded data removed]",
      "text/plain": [
       "<Figure size 640x480 with 1 Axes>"
      ]
     },
     "metadata": {},
     "output_type": "display_data"
    }
   ],
   "source": [
    "\n",
    "transformer_test_accuracy_list = []\n",
    "orchid_test_accuracy_list = []\n",
    "seq_list = []\n",
    "sequences = []\n",
    "fasta_files = [\"uniref50_10000_clusters.fasta\", \"uniref50_1000_clusters_2k-3k.fasta\", \"uniref50_1000_clusters_3k-4k.fasta\"]\n",
    "for fasta_file in fasta_files:\n",
    "    sequences += read_fasta(fasta_file)\n",
    "sequences = list(set(sequences))\n",
    "'''\n",
    "# Read sequences and split into train/val/test\n",
    "fasta_file = \"uniref50_10000_clusters.fasta\"\n",
    "sequences = read_fasta(fasta_file)\n",
    "#sequences = sequences[:len(sequences)]\n",
    "'''\n",
    "\n",
    "skip = [1000,2000]\n",
    "\n",
    "max_data_count = 1000\n",
    "\n",
    "for seq_len in range(1000,5000,1000):\n",
    "#seq_len = 2048\n",
    "    sequences_cut  = [s for s in sequences if (len(s)<=seq_len and len(s)>seq_len - 1000)]\n",
    "    \n",
    "    if len(sequences_cut) > max_data_count:  \n",
    "        sequences_cut = sequences_cut[:max_data_count]\n",
    "    \n",
    "    train_seqs, temp_seqs = train_test_split(sequences_cut, test_size=0.3, random_state=42)\n",
    "    val_seqs, test_seqs = train_test_split(temp_seqs, test_size=0.5, random_state=42)\n",
    "\n",
    "    # Tokenize and mask sequences\n",
    "    train_data = prepare_data(train_seqs, vocab)\n",
    "    val_data = prepare_data(val_seqs, vocab)\n",
    "    test_data = prepare_data(test_seqs, vocab)\n",
    "    \n",
    "    config = BertConfig(\n",
    "        vocab_size=len(vocab),  # Number of tokens in the vocabulary\n",
    "        hidden_size=128,\n",
    "        num_hidden_layers=3,\n",
    "        num_attention_heads=2,\n",
    "        intermediate_size=256,\n",
    "        hidden_dropout_prob=0.1,\n",
    "        max_position_embeddings=seq_len\n",
    "    )\n",
    "    \n",
    "    transformer_model = BertForMaskedLM(config)\n",
    "    \n",
    "    vocab_size = len(vocab)\n",
    "    # Adjust based on your dataset\n",
    "    orchid_model = OrchidBERT(config, seq_len, l_conv1d=11)\n",
    "    \n",
    "    # Prepare DataLoaders\n",
    "    batch_size = 32\n",
    "    train_loader = DataLoader(ProteinDataset(train_data, seq_len), batch_size=batch_size, shuffle=True)\n",
    "    val_loader = DataLoader(ProteinDataset(val_data, seq_len), batch_size=batch_size)\n",
    "    test_loader = DataLoader(ProteinDataset(test_data, seq_len), batch_size=batch_size)\n",
    "\n",
    "    device = torch.device(\"cuda\" if torch.cuda.is_available() else \"cpu\")\n",
    "    #device = torch.device(\"cpu\")\n",
    "    transformer_model.to(device)\n",
    "    orchid_model.to(device)\n",
    "\n",
    "    transformer_path = f\"transformer_model_{seq_len}\"\n",
    "    orchid_path = f\"orchid_model_tmp_{seq_len}\"\n",
    "    \n",
    "    if seq_len not in skip:\n",
    "        print(seq_len)\n",
    "        transformer_acc = train(transformer_model, train_loader, val_loader,transformer_path)\n",
    "        orchid_acc = train(orchid_model, train_loader, val_loader,orchid_path)\n",
    "    \n",
    "    transformer_model = BertForMaskedLM(config)  # Replace with your model's class\n",
    "    transformer_model.load_state_dict(torch.load(transformer_path))\n",
    "    transformer_model.to(device)\n",
    "\n",
    "    orchid_model = OrchidBERT(config, seq_len, l_conv1d=11)  # Replace with your model's class\n",
    "    orchid_model.load_state_dict(torch.load(orchid_path))\n",
    "    orchid_model.to(device)\n",
    "    \n",
    "    transformer_test_acc = test(transformer_model, test_loader)\n",
    "    orchid_test_acc = test(orchid_model, test_loader)\n",
    "\n",
    "    print(f\"Transformer Test Accuracy at sequence length {seq_len}: {transformer_test_acc:.4f}\")\n",
    "    print(f\"Orchid Test Accuracy at sequence length {seq_len}: {orchid_test_acc:.4f}\")\n",
    "    \n",
    "    transformer_test_accuracy_list.append(transformer_test_acc)\n",
    "    orchid_test_accuracy_list.append(orchid_test_acc)\n",
    "    seq_list.append(seq_len)\n",
    "\n",
    "# Plot Training and Validation Accuracy\n",
    "plt.plot(seq_list, transformer_test_accuracy_list, label=\"Transformer Test Accuracy\")\n",
    "plt.plot(seq_list, orchid_test_accuracy_list, label=\"Orchid Test Accuracy\")\n",
    "plt.xlabel('Sequence length') \n",
    "plt.ylabel('Accuracy') \n",
    "plt.legend()\n",
    "plt.show()"
   ]
  },
  {
   "cell_type": "code",
   "execution_count": null,
   "id": "8f78ecdd-ce03-437c-b226-2e0b840fc66e",
   "metadata": {},
   "outputs": [],
   "source": []
  }
 ],
 "metadata": {
  "kernelspec": {
   "display_name": "Python (GPU)",
   "language": "python",
   "name": "gpu_env"
  },
  "language_info": {
   "codemirror_mode": {
    "name": "ipython",
    "version": 3
   },
   "file_extension": ".py",
   "mimetype": "text/x-python",
   "name": "python",
   "nbconvert_exporter": "python",
   "pygments_lexer": "ipython3",
   "version": "3.10.10"
  }
 },
 "nbformat": 4,
 "nbformat_minor": 5
}
